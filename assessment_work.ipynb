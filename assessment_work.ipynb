{
 "cells": [
  {
   "cell_type": "code",
   "execution_count": 1,
   "metadata": {},
   "outputs": [],
   "source": [
    "import pandas as pd\n",
    "import numpy as np\n",
    "pd.options.display.max_columns = None\n",
    "from scipy.stats import chi2_contingency\n",
    "import warnings\n",
    "warnings.filterwarnings('ignore')"
   ]
  },
  {
   "cell_type": "code",
   "execution_count": 2,
   "metadata": {},
   "outputs": [],
   "source": [
    "df = pd.read_excel('SampleDonorData.xlsx')"
   ]
  },
  {
   "cell_type": "markdown",
   "metadata": {},
   "source": [
    "## Evaluating and Cleaning"
   ]
  },
  {
   "cell_type": "code",
   "execution_count": 3,
   "metadata": {
    "scrolled": true
   },
   "outputs": [
    {
     "data": {
      "text/plain": [
       "Index(['TARGET_B', 'TARGET_D', 'CONTROL_NUMBER', 'MONTHS_SINCE_ORIGIN',\n",
       "       'DONOR_AGE', 'IN_HOUSE', 'URBANICITY', 'CLUSTER_CODE', 'HOME_OWNER',\n",
       "       'DONOR_GENDER', 'INCOME_GROUP', 'PUBLISHED_PHONE', 'WEALTH_RATING',\n",
       "       'MEDIAN_HOME_VALUE', 'MEDIAN_HOUSEHOLD_INCOME', 'PCT_OWNER_OCCUPIED',\n",
       "       'PEP_STAR', 'RECENT_STAR_STATUS', 'recency_freq_status',\n",
       "       'RECENT_CARD_RESPONSE_PROP', 'MONTHS_SINCE_LAST_PROM_RESP',\n",
       "       'LAST_GIFT_AMT', 'NUMBER_PROM_12', 'MONTHS_SINCE_LAST_GIFT',\n",
       "       'MONTHS_SINCE_FIRST_GIFT'],\n",
       "      dtype='object')"
      ]
     },
     "execution_count": 3,
     "metadata": {},
     "output_type": "execute_result"
    }
   ],
   "source": [
    "df.columns ##some columns from ref sheet not included"
   ]
  },
  {
   "cell_type": "code",
   "execution_count": 4,
   "metadata": {
    "scrolled": true
   },
   "outputs": [
    {
     "name": "stdout",
     "output_type": "stream",
     "text": [
      "<class 'pandas.core.frame.DataFrame'>\n",
      "RangeIndex: 19372 entries, 0 to 19371\n",
      "Data columns (total 25 columns):\n",
      "TARGET_B                       19372 non-null int64\n",
      "TARGET_D                       19372 non-null int64\n",
      "CONTROL_NUMBER                 19372 non-null int64\n",
      "MONTHS_SINCE_ORIGIN            19372 non-null int64\n",
      "DONOR_AGE                      14577 non-null float64\n",
      "IN_HOUSE                       19372 non-null int64\n",
      "URBANICITY                     19372 non-null object\n",
      "CLUSTER_CODE                   18918 non-null float64\n",
      "HOME_OWNER                     19372 non-null object\n",
      "DONOR_GENDER                   19372 non-null object\n",
      "INCOME_GROUP                   14980 non-null float64\n",
      "PUBLISHED_PHONE                19372 non-null int64\n",
      "WEALTH_RATING                  10562 non-null float64\n",
      "MEDIAN_HOME_VALUE              19372 non-null int64\n",
      "MEDIAN_HOUSEHOLD_INCOME        19372 non-null int64\n",
      "PCT_OWNER_OCCUPIED             19372 non-null int64\n",
      "PEP_STAR                       19372 non-null int64\n",
      "RECENT_STAR_STATUS             19372 non-null int64\n",
      "recency_freq_status            19372 non-null object\n",
      "RECENT_CARD_RESPONSE_PROP      19372 non-null float64\n",
      "MONTHS_SINCE_LAST_PROM_RESP    19126 non-null float64\n",
      "LAST_GIFT_AMT                  19372 non-null int64\n",
      "NUMBER_PROM_12                 19372 non-null int64\n",
      "MONTHS_SINCE_LAST_GIFT         19372 non-null int64\n",
      "MONTHS_SINCE_FIRST_GIFT        19372 non-null int64\n",
      "dtypes: float64(6), int64(15), object(4)\n",
      "memory usage: 3.7+ MB\n"
     ]
    }
   ],
   "source": [
    "df.info() ##lots of missing values"
   ]
  },
  {
   "cell_type": "code",
   "execution_count": 5,
   "metadata": {},
   "outputs": [],
   "source": [
    "df.drop(df[df.DONOR_AGE < 18].index, inplace=True) ##dropped all values less than 18 y/o, ~225 rows"
   ]
  },
  {
   "cell_type": "code",
   "execution_count": 6,
   "metadata": {},
   "outputs": [],
   "source": [
    "df['DONOR_AGE'].fillna((df['DONOR_AGE'].mean()), inplace=True) ##replaced NaN with mean, no apparent outliers"
   ]
  },
  {
   "cell_type": "code",
   "execution_count": 7,
   "metadata": {},
   "outputs": [],
   "source": [
    "df.dropna(subset=['CLUSTER_CODE'], inplace=True) ##dropped ~400 rows rather than impute, ~2pct of data"
   ]
  },
  {
   "cell_type": "code",
   "execution_count": 10,
   "metadata": {},
   "outputs": [
    {
     "data": {
      "image/png": "[encoded data removed]",
      "text/plain": [
       "<Figure size 432x288 with 1 Axes>"
      ]
     },
     "metadata": {
      "needs_background": "light"
     },
     "output_type": "display_data"
    }
   ],
   "source": [
    "import matplotlib.pyplot as plt\n",
    "plt.scatter(df['MEDIAN_HOUSEHOLD_INCOME'], df['INCOME_GROUP'])\n",
    "plt.show()"
   ]
  },
  {
   "cell_type": "code",
   "execution_count": 11,
   "metadata": {},
   "outputs": [],
   "source": [
    "df[\"INCOME_GROUP\"] = df.groupby(\"MEDIAN_HOUSEHOLD_INCOME\")[\"INCOME_GROUP\"].transform(lambda x: x.fillna(x.mean())) \n",
    "##impute INCOME GROUP based on avg MED INCOME of area"
   ]
  },
  {
   "cell_type": "code",
   "execution_count": 12,
   "metadata": {
    "scrolled": true
   },
   "outputs": [],
   "source": [
    "df.INCOME_GROUP = df.INCOME_GROUP.round()"
   ]
  },
  {
   "cell_type": "code",
   "execution_count": 13,
   "metadata": {
    "scrolled": true
   },
   "outputs": [],
   "source": [
    "df.dropna(subset=['INCOME_GROUP'], inplace=True)"
   ]
  },
  {
   "cell_type": "code",
   "execution_count": 16,
   "metadata": {},
   "outputs": [
    {
     "data": {
      "image/png": "[encoded data removed]",
      "text/plain": [
       "<Figure size 432x288 with 1 Axes>"
      ]
     },
     "metadata": {
      "needs_background": "light"
     },
     "output_type": "display_data"
    }
   ],
   "source": [
    "plt.scatter(df['MEDIAN_HOME_VALUE'], df['WEALTH_RATING'])\n",
    "plt.show()"
   ]
  },
  {
   "cell_type": "code",
   "execution_count": 17,
   "metadata": {},
   "outputs": [],
   "source": [
    "df[\"WEALTH_RATING\"] = df.groupby(\"MEDIAN_HOME_VALUE\")[\"WEALTH_RATING\"].transform(lambda x: x.fillna(x.mean())) \n",
    "##impute Wealth Rating based on home value of area"
   ]
  },
  {
   "cell_type": "code",
   "execution_count": 23,
   "metadata": {},
   "outputs": [],
   "source": [
    "df.WEALTH_RATING = df.WEALTH_RATING.round()"
   ]
  },
  {
   "cell_type": "code",
   "execution_count": 24,
   "metadata": {},
   "outputs": [],
   "source": [
    "df.dropna(subset=['WEALTH_RATING'], inplace=True)"
   ]
  },
  {
   "cell_type": "code",
   "execution_count": 27,
   "metadata": {},
   "outputs": [],
   "source": [
    "df.dropna(subset=['MONTHS_SINCE_LAST_PROM_RESP'], inplace=True)"
   ]
  },
  {
   "cell_type": "code",
   "execution_count": 36,
   "metadata": {
    "scrolled": true
   },
   "outputs": [
    {
     "name": "stdout",
     "output_type": "stream",
     "text": [
      "<class 'pandas.core.frame.DataFrame'>\n",
      "RangeIndex: 17638 entries, 0 to 17637\n",
      "Data columns (total 25 columns):\n",
      "TARGET_B                       17638 non-null int64\n",
      "TARGET_D                       17638 non-null int64\n",
      "CONTROL_NUMBER                 17638 non-null int64\n",
      "MONTHS_SINCE_ORIGIN            17638 non-null int64\n",
      "DONOR_AGE                      17638 non-null float64\n",
      "IN_HOUSE                       17638 non-null int64\n",
      "URBANICITY                     17638 non-null object\n",
      "CLUSTER_CODE                   17638 non-null float64\n",
      "HOME_OWNER                     17638 non-null object\n",
      "DONOR_GENDER                   17638 non-null object\n",
      "INCOME_GROUP                   17638 non-null float64\n",
      "PUBLISHED_PHONE                17638 non-null int64\n",
      "WEALTH_RATING                  17638 non-null float64\n",
      "MEDIAN_HOME_VALUE              17638 non-null int64\n",
      "MEDIAN_HOUSEHOLD_INCOME        17638 non-null int64\n",
      "PCT_OWNER_OCCUPIED             17638 non-null int64\n",
      "PEP_STAR                       17638 non-null int64\n",
      "RECENT_STAR_STATUS             17638 non-null int64\n",
      "recency_freq_status            17638 non-null object\n",
      "RECENT_CARD_RESPONSE_PROP      17638 non-null float64\n",
      "MONTHS_SINCE_LAST_PROM_RESP    17638 non-null float64\n",
      "LAST_GIFT_AMT                  17638 non-null int64\n",
      "NUMBER_PROM_12                 17638 non-null int64\n",
      "MONTHS_SINCE_LAST_GIFT         17638 non-null int64\n",
      "MONTHS_SINCE_FIRST_GIFT        17638 non-null int64\n",
      "dtypes: float64(6), int64(15), object(4)\n",
      "memory usage: 3.4+ MB\n"
     ]
    },
    {
     "data": {
      "text/plain": [
       "(None, None)"
      ]
     },
     "execution_count": 36,
     "metadata": {},
     "output_type": "execute_result"
    }
   ],
   "source": [
    "df.reset_index(drop=True, inplace=True), df.info() ##cleaned, can type cast later"
   ]
  },
  {
   "cell_type": "markdown",
   "metadata": {},
   "source": [
    "## 1) Histogram of Cont. Variable (Card Response)"
   ]
  },
  {
   "cell_type": "code",
   "execution_count": 100,
   "metadata": {},
   "outputs": [
    {
     "data": {
      "text/plain": [
       "array([[<matplotlib.axes._subplots.AxesSubplot object at 0x116c096d8>]],\n",
       "      dtype=object)"
      ]
     },
     "execution_count": 100,
     "metadata": {},
     "output_type": "execute_result"
    },
    {
     "data": {
      "image/png": "[encoded data removed]",
      "text/plain": [
       "<Figure size 432x288 with 1 Axes>"
      ]
     },
     "metadata": {
      "needs_background": "light"
     },
     "output_type": "display_data"
    }
   ],
   "source": [
    "df.hist(column=\"RECENT_CARD_RESPONSE_PROP\") #Create a Histogram for a continuous variable.\n",
    "##asymmetric & +skew, not normally distributed."
   ]
  },
  {
   "cell_type": "markdown",
   "metadata": {},
   "source": [
    "### Mean, Median, Std, Intervals"
   ]
  },
  {
   "cell_type": "code",
   "execution_count": 103,
   "metadata": {},
   "outputs": [
    {
     "data": {
      "text/plain": [
       "(0.23072644290735914, 0.2, 0.1843329918196034)"
      ]
     },
     "execution_count": 103,
     "metadata": {},
     "output_type": "execute_result"
    }
   ],
   "source": [
    "df.RECENT_CARD_RESPONSE_PROP.mean(), df.RECENT_CARD_RESPONSE_PROP.median(), df.RECENT_CARD_RESPONSE_PROP.std()"
   ]
  },
  {
   "cell_type": "code",
   "execution_count": 104,
   "metadata": {},
   "outputs": [],
   "source": [
    "N = 10000\n",
    "mean_estimates = []\n",
    "for _ in range(N):\n",
    "    re_sample_idx = np.random.randint(0, len(df.RECENT_CARD_RESPONSE_PROP), df.RECENT_CARD_RESPONSE_PROP.shape)\n",
    "    mean_estimates.append(np.mean(df.RECENT_CARD_RESPONSE_PROP[re_sample_idx]))"
   ]
  },
  {
   "cell_type": "code",
   "execution_count": 105,
   "metadata": {},
   "outputs": [],
   "source": [
    "sorted_estimates = np.sort(np.array(mean_estimates))\n",
    "conf_interval = [sorted_estimates[int(0.025 * N)], sorted_estimates[int(0.975 * N)]]"
   ]
  },
  {
   "cell_type": "code",
   "execution_count": 106,
   "metadata": {},
   "outputs": [
    {
     "data": {
      "text/plain": [
       "[0.22799461390180295, 0.2334522621612428]"
      ]
     },
     "execution_count": 106,
     "metadata": {},
     "output_type": "execute_result"
    }
   ],
   "source": [
    "conf_interval"
   ]
  },
  {
   "cell_type": "code",
   "execution_count": 107,
   "metadata": {},
   "outputs": [],
   "source": [
    "N = 10000\n",
    "median_estimates = []\n",
    "for _ in range(N):\n",
    "    re_sample_idx_med = np.random.randint(0, len(df.RECENT_CARD_RESPONSE_PROP), df.RECENT_CARD_RESPONSE_PROP.shape)\n",
    "    median_estimates.append(np.median(df.RECENT_CARD_RESPONSE_PROP[re_sample_idx_med]))"
   ]
  },
  {
   "cell_type": "code",
   "execution_count": 108,
   "metadata": {},
   "outputs": [],
   "source": [
    "sorted_med_estimates = np.sort(np.array(median_estimates))\n",
    "conf_interval_med = [sorted_med_estimates[int(0.025 * N)], sorted_med_estimates[int(0.975 * N)]]"
   ]
  },
  {
   "cell_type": "code",
   "execution_count": 109,
   "metadata": {},
   "outputs": [
    {
     "data": {
      "text/plain": [
       "[0.2, 0.2]"
      ]
     },
     "execution_count": 109,
     "metadata": {},
     "output_type": "execute_result"
    }
   ],
   "source": [
    "conf_interval_med"
   ]
  },
  {
   "cell_type": "code",
   "execution_count": 110,
   "metadata": {},
   "outputs": [],
   "source": [
    "N = 10000\n",
    "std_estimates = []\n",
    "for _ in range(N):\n",
    "    re_sample_idx_std = np.random.randint(0, len(df.RECENT_CARD_RESPONSE_PROP), df.RECENT_CARD_RESPONSE_PROP.shape)\n",
    "    std_estimates.append(np.std(df.RECENT_CARD_RESPONSE_PROP[re_sample_idx_std]))"
   ]
  },
  {
   "cell_type": "code",
   "execution_count": 111,
   "metadata": {},
   "outputs": [],
   "source": [
    "sorted_std_estimates = np.sort(np.array(std_estimates))\n",
    "conf_interval_std = [sorted_std_estimates[int(0.025 * N)], sorted_std_estimates[int(0.975 * N)]]"
   ]
  },
  {
   "cell_type": "code",
   "execution_count": 112,
   "metadata": {},
   "outputs": [
    {
     "data": {
      "text/plain": [
       "[0.18216858890375917, 0.18648396842674786]"
      ]
     },
     "execution_count": 112,
     "metadata": {},
     "output_type": "execute_result"
    }
   ],
   "source": [
    "conf_interval_std"
   ]
  },
  {
   "cell_type": "code",
   "execution_count": 85,
   "metadata": {},
   "outputs": [],
   "source": [
    "### Mean and Median give us central tendency of the proportion of card responses, \n",
    "##the standard deviation gives us the dispersion of the proportion of card responses\n",
    "##confidence intervals of the measures give us a 95% confidence that the population parameters are within these bounds"
   ]
  },
  {
   "cell_type": "code",
   "execution_count": 86,
   "metadata": {},
   "outputs": [],
   "source": [
    "#Variable doesn't appear to follow normal distribution given asymmetry and positive skew"
   ]
  },
  {
   "cell_type": "markdown",
   "metadata": {},
   "source": [
    "## 2) Correlation matrix and X-squared test"
   ]
  },
  {
   "cell_type": "code",
   "execution_count": 754,
   "metadata": {},
   "outputs": [],
   "source": [
    "df2 = df[['PCT_OWNER_OCCUPIED','RECENT_CARD_RESPONSE_PROP','MONTHS_SINCE_LAST_PROM_RESP',\\\n",
    "          'LAST_GIFT_AMT','DONOR_AGE','TARGET_D','MEDIAN_HOUSEHOLD_INCOME',\"MEDIAN_HOME_VALUE\",\\\n",
    "          \"MONTHS_SINCE_ORIGIN\",'MONTHS_SINCE_LAST_GIFT','MONTHS_SINCE_FIRST_GIFT']]"
   ]
  },
  {
   "cell_type": "code",
   "execution_count": 755,
   "metadata": {},
   "outputs": [
    {
     "data": {
      "text/html": [
       "<div>\n",
       "<style scoped>\n",
       "    .dataframe tbody tr th:only-of-type {\n",
       "        vertical-align: middle;\n",
       "    }\n",
       "\n",
       "    .dataframe tbody tr th {\n",
       "        vertical-align: top;\n",
       "    }\n",
       "\n",
       "    .dataframe thead th {\n",
       "        text-align: right;\n",
       "    }\n",
       "</style>\n",
       "<table border=\"1\" class=\"dataframe\">\n",
       "  <thead>\n",
       "    <tr style=\"text-align: right;\">\n",
       "      <th></th>\n",
       "      <th>PCT_OWNER_OCCUPIED</th>\n",
       "      <th>RECENT_CARD_RESPONSE_PROP</th>\n",
       "      <th>MONTHS_SINCE_LAST_PROM_RESP</th>\n",
       "      <th>LAST_GIFT_AMT</th>\n",
       "      <th>DONOR_AGE</th>\n",
       "      <th>TARGET_D</th>\n",
       "      <th>MEDIAN_HOUSEHOLD_INCOME</th>\n",
       "      <th>MEDIAN_HOME_VALUE</th>\n",
       "      <th>MONTHS_SINCE_ORIGIN</th>\n",
       "      <th>MONTHS_SINCE_LAST_GIFT</th>\n",
       "      <th>MONTHS_SINCE_FIRST_GIFT</th>\n",
       "    </tr>\n",
       "  </thead>\n",
       "  <tbody>\n",
       "    <tr>\n",
       "      <th>PCT_OWNER_OCCUPIED</th>\n",
       "      <td>1.000000</td>\n",
       "      <td>-0.013588</td>\n",
       "      <td>-0.000077</td>\n",
       "      <td>-0.007000</td>\n",
       "      <td>-0.023256</td>\n",
       "      <td>0.006513</td>\n",
       "      <td>0.442105</td>\n",
       "      <td>0.027070</td>\n",
       "      <td>0.040261</td>\n",
       "      <td>0.007682</td>\n",
       "      <td>0.040892</td>\n",
       "    </tr>\n",
       "    <tr>\n",
       "      <th>RECENT_CARD_RESPONSE_PROP</th>\n",
       "      <td>-0.013588</td>\n",
       "      <td>1.000000</td>\n",
       "      <td>-0.245138</td>\n",
       "      <td>-0.233755</td>\n",
       "      <td>-0.023678</td>\n",
       "      <td>-0.007865</td>\n",
       "      <td>-0.027470</td>\n",
       "      <td>-0.036689</td>\n",
       "      <td>-0.198264</td>\n",
       "      <td>-0.185141</td>\n",
       "      <td>-0.198908</td>\n",
       "    </tr>\n",
       "    <tr>\n",
       "      <th>MONTHS_SINCE_LAST_PROM_RESP</th>\n",
       "      <td>-0.000077</td>\n",
       "      <td>-0.245138</td>\n",
       "      <td>1.000000</td>\n",
       "      <td>0.127577</td>\n",
       "      <td>-0.023193</td>\n",
       "      <td>-0.007563</td>\n",
       "      <td>0.013714</td>\n",
       "      <td>0.002596</td>\n",
       "      <td>0.049113</td>\n",
       "      <td>0.680594</td>\n",
       "      <td>0.050106</td>\n",
       "    </tr>\n",
       "    <tr>\n",
       "      <th>LAST_GIFT_AMT</th>\n",
       "      <td>-0.007000</td>\n",
       "      <td>-0.233755</td>\n",
       "      <td>0.127577</td>\n",
       "      <td>1.000000</td>\n",
       "      <td>-0.048353</td>\n",
       "      <td>0.169405</td>\n",
       "      <td>0.080324</td>\n",
       "      <td>0.097538</td>\n",
       "      <td>-0.103812</td>\n",
       "      <td>0.096145</td>\n",
       "      <td>-0.105533</td>\n",
       "    </tr>\n",
       "    <tr>\n",
       "      <th>DONOR_AGE</th>\n",
       "      <td>-0.023256</td>\n",
       "      <td>-0.023678</td>\n",
       "      <td>-0.023193</td>\n",
       "      <td>-0.048353</td>\n",
       "      <td>1.000000</td>\n",
       "      <td>0.000050</td>\n",
       "      <td>-0.062142</td>\n",
       "      <td>0.006072</td>\n",
       "      <td>0.240848</td>\n",
       "      <td>-0.079479</td>\n",
       "      <td>0.240644</td>\n",
       "    </tr>\n",
       "    <tr>\n",
       "      <th>TARGET_D</th>\n",
       "      <td>0.006513</td>\n",
       "      <td>-0.007865</td>\n",
       "      <td>-0.007563</td>\n",
       "      <td>0.169405</td>\n",
       "      <td>0.000050</td>\n",
       "      <td>1.000000</td>\n",
       "      <td>0.064604</td>\n",
       "      <td>0.081198</td>\n",
       "      <td>0.007175</td>\n",
       "      <td>-0.032723</td>\n",
       "      <td>0.010429</td>\n",
       "    </tr>\n",
       "    <tr>\n",
       "      <th>MEDIAN_HOUSEHOLD_INCOME</th>\n",
       "      <td>0.442105</td>\n",
       "      <td>-0.027470</td>\n",
       "      <td>0.013714</td>\n",
       "      <td>0.080324</td>\n",
       "      <td>-0.062142</td>\n",
       "      <td>0.064604</td>\n",
       "      <td>1.000000</td>\n",
       "      <td>0.657475</td>\n",
       "      <td>0.003398</td>\n",
       "      <td>0.002550</td>\n",
       "      <td>0.004016</td>\n",
       "    </tr>\n",
       "    <tr>\n",
       "      <th>MEDIAN_HOME_VALUE</th>\n",
       "      <td>0.027070</td>\n",
       "      <td>-0.036689</td>\n",
       "      <td>0.002596</td>\n",
       "      <td>0.097538</td>\n",
       "      <td>0.006072</td>\n",
       "      <td>0.081198</td>\n",
       "      <td>0.657475</td>\n",
       "      <td>1.000000</td>\n",
       "      <td>0.014853</td>\n",
       "      <td>-0.016745</td>\n",
       "      <td>0.016136</td>\n",
       "    </tr>\n",
       "    <tr>\n",
       "      <th>MONTHS_SINCE_ORIGIN</th>\n",
       "      <td>0.040261</td>\n",
       "      <td>-0.198264</td>\n",
       "      <td>0.049113</td>\n",
       "      <td>-0.103812</td>\n",
       "      <td>0.240848</td>\n",
       "      <td>0.007175</td>\n",
       "      <td>0.003398</td>\n",
       "      <td>0.014853</td>\n",
       "      <td>1.000000</td>\n",
       "      <td>-0.020401</td>\n",
       "      <td>0.987926</td>\n",
       "    </tr>\n",
       "    <tr>\n",
       "      <th>MONTHS_SINCE_LAST_GIFT</th>\n",
       "      <td>0.007682</td>\n",
       "      <td>-0.185141</td>\n",
       "      <td>0.680594</td>\n",
       "      <td>0.096145</td>\n",
       "      <td>-0.079479</td>\n",
       "      <td>-0.032723</td>\n",
       "      <td>0.002550</td>\n",
       "      <td>-0.016745</td>\n",
       "      <td>-0.020401</td>\n",
       "      <td>1.000000</td>\n",
       "      <td>-0.024125</td>\n",
       "    </tr>\n",
       "    <tr>\n",
       "      <th>MONTHS_SINCE_FIRST_GIFT</th>\n",
       "      <td>0.040892</td>\n",
       "      <td>-0.198908</td>\n",
       "      <td>0.050106</td>\n",
       "      <td>-0.105533</td>\n",
       "      <td>0.240644</td>\n",
       "      <td>0.010429</td>\n",
       "      <td>0.004016</td>\n",
       "      <td>0.016136</td>\n",
       "      <td>0.987926</td>\n",
       "      <td>-0.024125</td>\n",
       "      <td>1.000000</td>\n",
       "    </tr>\n",
       "  </tbody>\n",
       "</table>\n",
       "</div>"
      ],
      "text/plain": [
       "                             PCT_OWNER_OCCUPIED  RECENT_CARD_RESPONSE_PROP  \\\n",
       "PCT_OWNER_OCCUPIED                     1.000000                  -0.013588   \n",
       "RECENT_CARD_RESPONSE_PROP             -0.013588                   1.000000   \n",
       "MONTHS_SINCE_LAST_PROM_RESP           -0.000077                  -0.245138   \n",
       "LAST_GIFT_AMT                         -0.007000                  -0.233755   \n",
       "DONOR_AGE                             -0.023256                  -0.023678   \n",
       "TARGET_D                               0.006513                  -0.007865   \n",
       "MEDIAN_HOUSEHOLD_INCOME                0.442105                  -0.027470   \n",
       "MEDIAN_HOME_VALUE                      0.027070                  -0.036689   \n",
       "MONTHS_SINCE_ORIGIN                    0.040261                  -0.198264   \n",
       "MONTHS_SINCE_LAST_GIFT                 0.007682                  -0.185141   \n",
       "MONTHS_SINCE_FIRST_GIFT                0.040892                  -0.198908   \n",
       "\n",
       "                             MONTHS_SINCE_LAST_PROM_RESP  LAST_GIFT_AMT  \\\n",
       "PCT_OWNER_OCCUPIED                             -0.000077      -0.007000   \n",
       "RECENT_CARD_RESPONSE_PROP                      -0.245138      -0.233755   \n",
       "MONTHS_SINCE_LAST_PROM_RESP                     1.000000       0.127577   \n",
       "LAST_GIFT_AMT                                   0.127577       1.000000   \n",
       "DONOR_AGE                                      -0.023193      -0.048353   \n",
       "TARGET_D                                       -0.007563       0.169405   \n",
       "MEDIAN_HOUSEHOLD_INCOME                         0.013714       0.080324   \n",
       "MEDIAN_HOME_VALUE                               0.002596       0.097538   \n",
       "MONTHS_SINCE_ORIGIN                             0.049113      -0.103812   \n",
       "MONTHS_SINCE_LAST_GIFT                          0.680594       0.096145   \n",
       "MONTHS_SINCE_FIRST_GIFT                         0.050106      -0.105533   \n",
       "\n",
       "                             DONOR_AGE  TARGET_D  MEDIAN_HOUSEHOLD_INCOME  \\\n",
       "PCT_OWNER_OCCUPIED           -0.023256  0.006513                 0.442105   \n",
       "RECENT_CARD_RESPONSE_PROP    -0.023678 -0.007865                -0.027470   \n",
       "MONTHS_SINCE_LAST_PROM_RESP  -0.023193 -0.007563                 0.013714   \n",
       "LAST_GIFT_AMT                -0.048353  0.169405                 0.080324   \n",
       "DONOR_AGE                     1.000000  0.000050                -0.062142   \n",
       "TARGET_D                      0.000050  1.000000                 0.064604   \n",
       "MEDIAN_HOUSEHOLD_INCOME      -0.062142  0.064604                 1.000000   \n",
       "MEDIAN_HOME_VALUE             0.006072  0.081198                 0.657475   \n",
       "MONTHS_SINCE_ORIGIN           0.240848  0.007175                 0.003398   \n",
       "MONTHS_SINCE_LAST_GIFT       -0.079479 -0.032723                 0.002550   \n",
       "MONTHS_SINCE_FIRST_GIFT       0.240644  0.010429                 0.004016   \n",
       "\n",
       "                             MEDIAN_HOME_VALUE  MONTHS_SINCE_ORIGIN  \\\n",
       "PCT_OWNER_OCCUPIED                    0.027070             0.040261   \n",
       "RECENT_CARD_RESPONSE_PROP            -0.036689            -0.198264   \n",
       "MONTHS_SINCE_LAST_PROM_RESP           0.002596             0.049113   \n",
       "LAST_GIFT_AMT                         0.097538            -0.103812   \n",
       "DONOR_AGE                             0.006072             0.240848   \n",
       "TARGET_D                              0.081198             0.007175   \n",
       "MEDIAN_HOUSEHOLD_INCOME               0.657475             0.003398   \n",
       "MEDIAN_HOME_VALUE                     1.000000             0.014853   \n",
       "MONTHS_SINCE_ORIGIN                   0.014853             1.000000   \n",
       "MONTHS_SINCE_LAST_GIFT               -0.016745            -0.020401   \n",
       "MONTHS_SINCE_FIRST_GIFT               0.016136             0.987926   \n",
       "\n",
       "                             MONTHS_SINCE_LAST_GIFT  MONTHS_SINCE_FIRST_GIFT  \n",
       "PCT_OWNER_OCCUPIED                         0.007682                 0.040892  \n",
       "RECENT_CARD_RESPONSE_PROP                 -0.185141                -0.198908  \n",
       "MONTHS_SINCE_LAST_PROM_RESP                0.680594                 0.050106  \n",
       "LAST_GIFT_AMT                              0.096145                -0.105533  \n",
       "DONOR_AGE                                 -0.079479                 0.240644  \n",
       "TARGET_D                                  -0.032723                 0.010429  \n",
       "MEDIAN_HOUSEHOLD_INCOME                    0.002550                 0.004016  \n",
       "MEDIAN_HOME_VALUE                         -0.016745                 0.016136  \n",
       "MONTHS_SINCE_ORIGIN                       -0.020401                 0.987926  \n",
       "MONTHS_SINCE_LAST_GIFT                     1.000000                -0.024125  \n",
       "MONTHS_SINCE_FIRST_GIFT                   -0.024125                 1.000000  "
      ]
     },
     "execution_count": 755,
     "metadata": {},
     "output_type": "execute_result"
    }
   ],
   "source": [
    "df2.corr()\n",
    "### most variables have extremely weak correlation, there is a slight negative relationship between last gift amount and \n",
    "## the number of responses in the last 4 years. Perhaps people who don't respond to mailers frequently make up for it with\n",
    "## larger gifts."
   ]
  },
  {
   "cell_type": "code",
   "execution_count": 120,
   "metadata": {},
   "outputs": [],
   "source": [
    "df3 = df[['TARGET_B','IN_HOUSE','URBANICITY','CLUSTER_CODE','HOME_OWNER','DONOR_GENDER',\\\n",
    "          'INCOME_GROUP','PUBLISHED_PHONE',\\\n",
    "          'WEALTH_RATING','PEP_STAR','RECENT_STAR_STATUS','recency_freq_status',]]"
   ]
  },
  {
   "cell_type": "code",
   "execution_count": 144,
   "metadata": {},
   "outputs": [],
   "source": [
    "from itertools import combinations\n",
    "cc = list(combinations(df3.columns,2))\n",
    "cc2 = np.array(cc)"
   ]
  },
  {
   "cell_type": "code",
   "execution_count": 192,
   "metadata": {},
   "outputs": [],
   "source": [
    "crosser= []\n",
    "for i in cc2:\n",
    "    c, p, dof, expected = chi2_contingency((pd.crosstab(df3[i[0]], df3[i[1]])))\n",
    "    crosser.append((c,p,dof, expected)) ###creates contingency table for all combinations of categorical columns"
   ]
  },
  {
   "cell_type": "code",
   "execution_count": 193,
   "metadata": {
    "scrolled": true
   },
   "outputs": [],
   "source": [
    "df4 = pd.DataFrame(crosser)\n",
    "df4.columns = ('c','p','dof','expected')\n",
    "df4['labels']=cc"
   ]
  },
  {
   "cell_type": "markdown",
   "metadata": {},
   "source": [
    "### X-squared results"
   ]
  },
  {
   "cell_type": "code",
   "execution_count": 206,
   "metadata": {},
   "outputs": [],
   "source": [
    "from scipy.stats import chi2"
   ]
  },
  {
   "cell_type": "code",
   "execution_count": 207,
   "metadata": {},
   "outputs": [],
   "source": [
    "df4['critical']=chi2.ppf(.95, df4['dof'])"
   ]
  },
  {
   "cell_type": "code",
   "execution_count": 209,
   "metadata": {},
   "outputs": [],
   "source": [
    "def f(row):\n",
    "    if row['c'] >= row['critical']:\n",
    "        val = 'dependent'\n",
    "    else:\n",
    "        val = 'independent'\n",
    "    return val"
   ]
  },
  {
   "cell_type": "code",
   "execution_count": 210,
   "metadata": {},
   "outputs": [],
   "source": [
    "df4['dependence'] = df4.apply(f, axis=1)"
   ]
  },
  {
   "cell_type": "code",
   "execution_count": 219,
   "metadata": {
    "scrolled": true
   },
   "outputs": [
    {
     "data": {
      "text/html": [
       "<div>\n",
       "<style scoped>\n",
       "    .dataframe tbody tr th:only-of-type {\n",
       "        vertical-align: middle;\n",
       "    }\n",
       "\n",
       "    .dataframe tbody tr th {\n",
       "        vertical-align: top;\n",
       "    }\n",
       "\n",
       "    .dataframe thead th {\n",
       "        text-align: right;\n",
       "    }\n",
       "</style>\n",
       "<table border=\"1\" class=\"dataframe\">\n",
       "  <thead>\n",
       "    <tr style=\"text-align: right;\">\n",
       "      <th></th>\n",
       "      <th>c</th>\n",
       "      <th>p</th>\n",
       "      <th>dof</th>\n",
       "      <th>expected</th>\n",
       "      <th>labels</th>\n",
       "      <th>critical</th>\n",
       "      <th>dependence</th>\n",
       "    </tr>\n",
       "  </thead>\n",
       "  <tbody>\n",
       "    <tr>\n",
       "      <th>0</th>\n",
       "      <td>31.509157</td>\n",
       "      <td>1.985020e-08</td>\n",
       "      <td>1</td>\n",
       "      <td>[[12349.726726386212, 890.2732736137884], [410...</td>\n",
       "      <td>(TARGET_B, IN_HOUSE)</td>\n",
       "      <td>3.841459</td>\n",
       "      <td>dependent</td>\n",
       "    </tr>\n",
       "    <tr>\n",
       "      <th>1</th>\n",
       "      <td>12.798802</td>\n",
       "      <td>1.230190e-02</td>\n",
       "      <td>4</td>\n",
       "      <td>[[2852.4776051706544, 2923.7895452999205, 3035...</td>\n",
       "      <td>(TARGET_B, URBANICITY)</td>\n",
       "      <td>9.487729</td>\n",
       "      <td>dependent</td>\n",
       "    </tr>\n",
       "    <tr>\n",
       "      <th>2</th>\n",
       "      <td>101.225580</td>\n",
       "      <td>5.205896e-05</td>\n",
       "      <td>52</td>\n",
       "      <td>[[153.1330082775825, 225.94625240957023, 175.6...</td>\n",
       "      <td>(TARGET_B, CLUSTER_CODE)</td>\n",
       "      <td>69.832160</td>\n",
       "      <td>dependent</td>\n",
       "    </tr>\n",
       "    <tr>\n",
       "      <th>3</th>\n",
       "      <td>2.273499</td>\n",
       "      <td>1.316025e-01</td>\n",
       "      <td>1</td>\n",
       "      <td>[[7298.589409230071, 5941.410590769929], [2424...</td>\n",
       "      <td>(TARGET_B, HOME_OWNER)</td>\n",
       "      <td>3.841459</td>\n",
       "      <td>independent</td>\n",
       "    </tr>\n",
       "    <tr>\n",
       "      <th>4</th>\n",
       "      <td>0.883598</td>\n",
       "      <td>6.428788e-01</td>\n",
       "      <td>2</td>\n",
       "      <td>[[7119.934232906226, 5437.7230978569, 682.3426...</td>\n",
       "      <td>(TARGET_B, DONOR_GENDER)</td>\n",
       "      <td>5.991465</td>\n",
       "      <td>independent</td>\n",
       "    </tr>\n",
       "    <tr>\n",
       "      <th>5</th>\n",
       "      <td>25.853658</td>\n",
       "      <td>2.370595e-04</td>\n",
       "      <td>6</td>\n",
       "      <td>[[1281.3629663227123, 1932.178251502438, 2345....</td>\n",
       "      <td>(TARGET_B, INCOME_GROUP)</td>\n",
       "      <td>12.591587</td>\n",
       "      <td>dependent</td>\n",
       "    </tr>\n",
       "    <tr>\n",
       "      <th>6</th>\n",
       "      <td>0.007353</td>\n",
       "      <td>9.316639e-01</td>\n",
       "      <td>1</td>\n",
       "      <td>[[6577.963487923801, 6662.036512076199], [2185...</td>\n",
       "      <td>(TARGET_B, PUBLISHED_PHONE)</td>\n",
       "      <td>3.841459</td>\n",
       "      <td>independent</td>\n",
       "    </tr>\n",
       "    <tr>\n",
       "      <th>7</th>\n",
       "      <td>44.757834</td>\n",
       "      <td>1.022856e-06</td>\n",
       "      <td>9</td>\n",
       "      <td>[[508.1914049211929, 702.6102732736138, 1194.2...</td>\n",
       "      <td>(TARGET_B, WEALTH_RATING)</td>\n",
       "      <td>16.918978</td>\n",
       "      <td>dependent</td>\n",
       "    </tr>\n",
       "    <tr>\n",
       "      <th>8</th>\n",
       "      <td>206.473926</td>\n",
       "      <td>8.075799e-47</td>\n",
       "      <td>1</td>\n",
       "      <td>[[6439.843519673433, 6800.156480326567], [2139...</td>\n",
       "      <td>(TARGET_B, PEP_STAR)</td>\n",
       "      <td>3.841459</td>\n",
       "      <td>dependent</td>\n",
       "    </tr>\n",
       "    <tr>\n",
       "      <th>9</th>\n",
       "      <td>181.268654</td>\n",
       "      <td>2.561102e-41</td>\n",
       "      <td>1</td>\n",
       "      <td>[[10212.620478512303, 3027.379521487697], [339...</td>\n",
       "      <td>(TARGET_B, RECENT_STAR_STATUS)</td>\n",
       "      <td>3.841459</td>\n",
       "      <td>dependent</td>\n",
       "    </tr>\n",
       "    <tr>\n",
       "      <th>10</th>\n",
       "      <td>410.613666</td>\n",
       "      <td>2.643745e-73</td>\n",
       "      <td>22</td>\n",
       "      <td>[[4663.80088445402, 1595.886154892845, 1122.22...</td>\n",
       "      <td>(TARGET_B, recency_freq_status)</td>\n",
       "      <td>33.924438</td>\n",
       "      <td>dependent</td>\n",
       "    </tr>\n",
       "    <tr>\n",
       "      <th>11</th>\n",
       "      <td>23.846691</td>\n",
       "      <td>8.572978e-05</td>\n",
       "      <td>4</td>\n",
       "      <td>[[3544.483501530786, 3633.095589069055, 3772.0...</td>\n",
       "      <td>(IN_HOUSE, URBANICITY)</td>\n",
       "      <td>9.487729</td>\n",
       "      <td>dependent</td>\n",
       "    </tr>\n",
       "    <tr>\n",
       "      <th>12</th>\n",
       "      <td>108.995420</td>\n",
       "      <td>6.401553e-06</td>\n",
       "      <td>52</td>\n",
       "      <td>[[190.28279850323165, 280.76040367388595, 218....</td>\n",
       "      <td>(IN_HOUSE, CLUSTER_CODE)</td>\n",
       "      <td>69.832160</td>\n",
       "      <td>dependent</td>\n",
       "    </tr>\n",
       "    <tr>\n",
       "      <th>13</th>\n",
       "      <td>6.534122</td>\n",
       "      <td>1.058244e-02</td>\n",
       "      <td>1</td>\n",
       "      <td>[[9069.21396983785, 7382.7860301621495], [653....</td>\n",
       "      <td>(IN_HOUSE, HOME_OWNER)</td>\n",
       "      <td>3.841459</td>\n",
       "      <td>dependent</td>\n",
       "    </tr>\n",
       "    <tr>\n",
       "      <th>14</th>\n",
       "      <td>27.719168</td>\n",
       "      <td>9.568839e-07</td>\n",
       "      <td>2</td>\n",
       "      <td>[[8847.21737158408, 6756.904864497108, 847.877...</td>\n",
       "      <td>(IN_HOUSE, DONOR_GENDER)</td>\n",
       "      <td>5.991465</td>\n",
       "      <td>dependent</td>\n",
       "    </tr>\n",
       "    <tr>\n",
       "      <th>15</th>\n",
       "      <td>22.270365</td>\n",
       "      <td>1.081567e-03</td>\n",
       "      <td>6</td>\n",
       "      <td>[[1592.2192992402768, 2400.9211928790114, 2913...</td>\n",
       "      <td>(IN_HOUSE, INCOME_GROUP)</td>\n",
       "      <td>12.591587</td>\n",
       "      <td>dependent</td>\n",
       "    </tr>\n",
       "    <tr>\n",
       "      <th>16</th>\n",
       "      <td>4.617413</td>\n",
       "      <td>3.164894e-02</td>\n",
       "      <td>1</td>\n",
       "      <td>[[8173.765506293231, 8278.23449370677], [589.2...</td>\n",
       "      <td>(IN_HOUSE, PUBLISHED_PHONE)</td>\n",
       "      <td>3.841459</td>\n",
       "      <td>dependent</td>\n",
       "    </tr>\n",
       "    <tr>\n",
       "      <th>17</th>\n",
       "      <td>57.117988</td>\n",
       "      <td>4.797332e-09</td>\n",
       "      <td>9</td>\n",
       "      <td>[[631.4777185621953, 873.062251956004, 1484.01...</td>\n",
       "      <td>(IN_HOUSE, WEALTH_RATING)</td>\n",
       "      <td>16.918978</td>\n",
       "      <td>dependent</td>\n",
       "    </tr>\n",
       "    <tr>\n",
       "      <th>18</th>\n",
       "      <td>172.537017</td>\n",
       "      <td>2.065761e-39</td>\n",
       "      <td>1</td>\n",
       "      <td>[[8002.137884113845, 8449.862115886155], [576....</td>\n",
       "      <td>(IN_HOUSE, PEP_STAR)</td>\n",
       "      <td>3.841459</td>\n",
       "      <td>dependent</td>\n",
       "    </tr>\n",
       "    <tr>\n",
       "      <th>19</th>\n",
       "      <td>68.155247</td>\n",
       "      <td>1.511168e-16</td>\n",
       "      <td>1</td>\n",
       "      <td>[[12690.183694296406, 3761.8163057035945], [91...</td>\n",
       "      <td>(IN_HOUSE, RECENT_STAR_STATUS)</td>\n",
       "      <td>3.841459</td>\n",
       "      <td>dependent</td>\n",
       "    </tr>\n",
       "    <tr>\n",
       "      <th>20</th>\n",
       "      <td>148.690042</td>\n",
       "      <td>8.449837e-21</td>\n",
       "      <td>22</td>\n",
       "      <td>[[5795.230525002835, 1983.0452432248553, 1394....</td>\n",
       "      <td>(IN_HOUSE, recency_freq_status)</td>\n",
       "      <td>33.924438</td>\n",
       "      <td>dependent</td>\n",
       "    </tr>\n",
       "    <tr>\n",
       "      <th>21</th>\n",
       "      <td>70552.000000</td>\n",
       "      <td>0.000000e+00</td>\n",
       "      <td>208</td>\n",
       "      <td>[[43.95056128812791, 64.84862229277695, 50.413...</td>\n",
       "      <td>(URBANICITY, CLUSTER_CODE)</td>\n",
       "      <td>242.646544</td>\n",
       "      <td>dependent</td>\n",
       "    </tr>\n",
       "    <tr>\n",
       "      <th>22</th>\n",
       "      <td>391.909818</td>\n",
       "      <td>1.556794e-83</td>\n",
       "      <td>4</td>\n",
       "      <td>[[2094.7613108062137, 1705.238689193786], [214...</td>\n",
       "      <td>(URBANICITY, HOME_OWNER)</td>\n",
       "      <td>9.487729</td>\n",
       "      <td>dependent</td>\n",
       "    </tr>\n",
       "    <tr>\n",
       "      <th>23</th>\n",
       "      <td>34.221041</td>\n",
       "      <td>3.704555e-05</td>\n",
       "      <td>8</td>\n",
       "      <td>[[2043.4856559700647, 1560.6758135843065, 195....</td>\n",
       "      <td>(URBANICITY, DONOR_GENDER)</td>\n",
       "      <td>15.507313</td>\n",
       "      <td>dependent</td>\n",
       "    </tr>\n",
       "    <tr>\n",
       "      <th>24</th>\n",
       "      <td>1082.172025</td>\n",
       "      <td>3.040936e-213</td>\n",
       "      <td>24</td>\n",
       "      <td>[[367.7627848962467, 554.5526703707903, 673.04...</td>\n",
       "      <td>(URBANICITY, INCOME_GROUP)</td>\n",
       "      <td>36.415029</td>\n",
       "      <td>dependent</td>\n",
       "    </tr>\n",
       "    <tr>\n",
       "      <th>25</th>\n",
       "      <td>255.612797</td>\n",
       "      <td>4.020905e-54</td>\n",
       "      <td>4</td>\n",
       "      <td>[[1887.935140038553, 1912.064859961447], [1935...</td>\n",
       "      <td>(URBANICITY, PUBLISHED_PHONE)</td>\n",
       "      <td>9.487729</td>\n",
       "      <td>dependent</td>\n",
       "    </tr>\n",
       "    <tr>\n",
       "      <th>26</th>\n",
       "      <td>2666.853941</td>\n",
       "      <td>0.000000e+00</td>\n",
       "      <td>36</td>\n",
       "      <td>[[145.8555391767774, 201.6555164984692, 342.77...</td>\n",
       "      <td>(URBANICITY, WEALTH_RATING)</td>\n",
       "      <td>50.998460</td>\n",
       "      <td>dependent</td>\n",
       "    </tr>\n",
       "    <tr>\n",
       "      <th>27</th>\n",
       "      <td>52.532286</td>\n",
       "      <td>1.067536e-10</td>\n",
       "      <td>4</td>\n",
       "      <td>[[1848.2934573080847, 1951.7065426919153], [18...</td>\n",
       "      <td>(URBANICITY, PEP_STAR)</td>\n",
       "      <td>9.487729</td>\n",
       "      <td>dependent</td>\n",
       "    </tr>\n",
       "    <tr>\n",
       "      <th>28</th>\n",
       "      <td>23.672716</td>\n",
       "      <td>9.289168e-05</td>\n",
       "      <td>4</td>\n",
       "      <td>[[2931.114638847942, 868.8853611520581], [3004...</td>\n",
       "      <td>(URBANICITY, RECENT_STAR_STATUS)</td>\n",
       "      <td>9.487729</td>\n",
       "      <td>dependent</td>\n",
       "    </tr>\n",
       "    <tr>\n",
       "      <th>29</th>\n",
       "      <td>144.965321</td>\n",
       "      <td>1.265929e-04</td>\n",
       "      <td>88</td>\n",
       "      <td>[[1338.5531239369543, 458.0337906792153, 322.0...</td>\n",
       "      <td>(URBANICITY, recency_freq_status)</td>\n",
       "      <td>110.898003</td>\n",
       "      <td>dependent</td>\n",
       "    </tr>\n",
       "    <tr>\n",
       "      <th>30</th>\n",
       "      <td>960.412469</td>\n",
       "      <td>2.076341e-167</td>\n",
       "      <td>52</td>\n",
       "      <td>[[112.455607211702, 91.544392788298], [165.927...</td>\n",
       "      <td>(CLUSTER_CODE, HOME_OWNER)</td>\n",
       "      <td>69.832160</td>\n",
       "      <td>dependent</td>\n",
       "    </tr>\n",
       "    <tr>\n",
       "      <th>31</th>\n",
       "      <td>174.522134</td>\n",
       "      <td>1.822964e-05</td>\n",
       "      <td>104</td>\n",
       "      <td>[[109.70291416260346, 83.78364893978909, 10.51...</td>\n",
       "      <td>(CLUSTER_CODE, DONOR_GENDER)</td>\n",
       "      <td>128.803908</td>\n",
       "      <td>dependent</td>\n",
       "    </tr>\n",
       "    <tr>\n",
       "      <th>32</th>\n",
       "      <td>5013.252121</td>\n",
       "      <td>0.000000e+00</td>\n",
       "      <td>312</td>\n",
       "      <td>[[19.7430547681143, 29.770722304116113, 36.131...</td>\n",
       "      <td>(CLUSTER_CODE, INCOME_GROUP)</td>\n",
       "      <td>354.193659</td>\n",
       "      <td>dependent</td>\n",
       "    </tr>\n",
       "    <tr>\n",
       "      <th>33</th>\n",
       "      <td>364.329814</td>\n",
       "      <td>1.868248e-48</td>\n",
       "      <td>52</td>\n",
       "      <td>[[101.35230751785917, 102.64769248214083], [14...</td>\n",
       "      <td>(CLUSTER_CODE, PUBLISHED_PHONE)</td>\n",
       "      <td>69.832160</td>\n",
       "      <td>dependent</td>\n",
       "    </tr>\n",
       "    <tr>\n",
       "      <th>34</th>\n",
       "      <td>11712.338519</td>\n",
       "      <td>0.000000e+00</td>\n",
       "      <td>468</td>\n",
       "      <td>[[7.830139471595419, 10.825717201496769, 18.40...</td>\n",
       "      <td>(CLUSTER_CODE, WEALTH_RATING)</td>\n",
       "      <td>519.433964</td>\n",
       "      <td>dependent</td>\n",
       "    </tr>\n",
       "    <tr>\n",
       "      <th>35</th>\n",
       "      <td>156.032802</td>\n",
       "      <td>2.489049e-12</td>\n",
       "      <td>52</td>\n",
       "      <td>[[99.2241750765393, 104.7758249234607], [146.4...</td>\n",
       "      <td>(CLUSTER_CODE, PEP_STAR)</td>\n",
       "      <td>69.832160</td>\n",
       "      <td>dependent</td>\n",
       "    </tr>\n",
       "    <tr>\n",
       "      <th>36</th>\n",
       "      <td>107.140982</td>\n",
       "      <td>1.067591e-05</td>\n",
       "      <td>52</td>\n",
       "      <td>[[157.354575348679, 46.64542465132101], [232.1...</td>\n",
       "      <td>(CLUSTER_CODE, RECENT_STAR_STATUS)</td>\n",
       "      <td>69.832160</td>\n",
       "      <td>dependent</td>\n",
       "    </tr>\n",
       "    <tr>\n",
       "      <th>37</th>\n",
       "      <td>1350.036470</td>\n",
       "      <td>2.187475e-05</td>\n",
       "      <td>1144</td>\n",
       "      <td>[[71.85916770608912, 24.589182446989454, 17.29...</td>\n",
       "      <td>(CLUSTER_CODE, recency_freq_status)</td>\n",
       "      <td>1223.798869</td>\n",
       "      <td>dependent</td>\n",
       "    </tr>\n",
       "    <tr>\n",
       "      <th>38</th>\n",
       "      <td>374.671793</td>\n",
       "      <td>4.375765e-82</td>\n",
       "      <td>2</td>\n",
       "      <td>[[5228.634482367615, 3993.276561968477, 501.08...</td>\n",
       "      <td>(HOME_OWNER, DONOR_GENDER)</td>\n",
       "      <td>5.991465</td>\n",
       "      <td>dependent</td>\n",
       "    </tr>\n",
       "    <tr>\n",
       "      <th>39</th>\n",
       "      <td>1885.133711</td>\n",
       "      <td>0.000000e+00</td>\n",
       "      <td>6</td>\n",
       "      <td>[[940.9888309332124, 1418.925161582946, 1722.1...</td>\n",
       "      <td>(HOME_OWNER, INCOME_GROUP)</td>\n",
       "      <td>12.591587</td>\n",
       "      <td>dependent</td>\n",
       "    </tr>\n",
       "    <tr>\n",
       "      <th>40</th>\n",
       "      <td>900.609936</td>\n",
       "      <td>7.231495e-198</td>\n",
       "      <td>1</td>\n",
       "      <td>[[4830.629833314435, 4892.370166685565], [3932...</td>\n",
       "      <td>(HOME_OWNER, PUBLISHED_PHONE)</td>\n",
       "      <td>3.841459</td>\n",
       "      <td>dependent</td>\n",
       "    </tr>\n",
       "    <tr>\n",
       "      <th>41</th>\n",
       "      <td>241.725801</td>\n",
       "      <td>5.558330e-47</td>\n",
       "      <td>9</td>\n",
       "      <td>[[373.19826510942283, 515.9727860301622, 877.0...</td>\n",
       "      <td>(HOME_OWNER, WEALTH_RATING)</td>\n",
       "      <td>16.918978</td>\n",
       "      <td>dependent</td>\n",
       "    </tr>\n",
       "    <tr>\n",
       "      <th>42</th>\n",
       "      <td>0.957203</td>\n",
       "      <td>3.278925e-01</td>\n",
       "      <td>1</td>\n",
       "      <td>[[4729.199285633292, 4993.800714366708], [3849...</td>\n",
       "      <td>(HOME_OWNER, PEP_STAR)</td>\n",
       "      <td>3.841459</td>\n",
       "      <td>independent</td>\n",
       "    </tr>\n",
       "    <tr>\n",
       "      <th>43</th>\n",
       "      <td>7.846003</td>\n",
       "      <td>5.093320e-03</td>\n",
       "      <td>1</td>\n",
       "      <td>[[7499.796745662774, 2223.2032543372266], [610...</td>\n",
       "      <td>(HOME_OWNER, RECENT_STAR_STATUS)</td>\n",
       "      <td>3.841459</td>\n",
       "      <td>dependent</td>\n",
       "    </tr>\n",
       "    <tr>\n",
       "      <th>44</th>\n",
       "      <td>212.257619</td>\n",
       "      <td>4.466158e-33</td>\n",
       "      <td>22</td>\n",
       "      <td>[[3424.9347431681595, 1171.9638280984238, 824....</td>\n",
       "      <td>(HOME_OWNER, recency_freq_status)</td>\n",
       "      <td>33.924438</td>\n",
       "      <td>dependent</td>\n",
       "    </tr>\n",
       "    <tr>\n",
       "      <th>45</th>\n",
       "      <td>189.878588</td>\n",
       "      <td>3.978061e-34</td>\n",
       "      <td>12</td>\n",
       "      <td>[[917.955267037079, 1384.1926522281437, 1679.9...</td>\n",
       "      <td>(DONOR_GENDER, INCOME_GROUP)</td>\n",
       "      <td>21.026070</td>\n",
       "      <td>dependent</td>\n",
       "    </tr>\n",
       "    <tr>\n",
       "      <th>46</th>\n",
       "      <td>169.830126</td>\n",
       "      <td>1.323905e-37</td>\n",
       "      <td>2</td>\n",
       "      <td>[[4712.385474543599, 4772.614525456401], [3599...</td>\n",
       "      <td>(DONOR_GENDER, PUBLISHED_PHONE)</td>\n",
       "      <td>5.991465</td>\n",
       "      <td>dependent</td>\n",
       "    </tr>\n",
       "    <tr>\n",
       "      <th>47</th>\n",
       "      <td>23.904006</td>\n",
       "      <td>1.581979e-01</td>\n",
       "      <td>18</td>\n",
       "      <td>[[364.0631023925615, 503.34278262841593, 855.5...</td>\n",
       "      <td>(DONOR_GENDER, WEALTH_RATING)</td>\n",
       "      <td>28.869299</td>\n",
       "      <td>independent</td>\n",
       "    </tr>\n",
       "    <tr>\n",
       "      <th>48</th>\n",
       "      <td>32.143291</td>\n",
       "      <td>1.047546e-07</td>\n",
       "      <td>2</td>\n",
       "      <td>[[4613.437748043996, 4871.562251956004], [3523...</td>\n",
       "      <td>(DONOR_GENDER, PEP_STAR)</td>\n",
       "      <td>5.991465</td>\n",
       "      <td>dependent</td>\n",
       "    </tr>\n",
       "    <tr>\n",
       "      <th>49</th>\n",
       "      <td>10.353530</td>\n",
       "      <td>5.646244e-03</td>\n",
       "      <td>2</td>\n",
       "      <td>[[7316.216407755981, 2168.7835922440186], [558...</td>\n",
       "      <td>(DONOR_GENDER, RECENT_STAR_STATUS)</td>\n",
       "      <td>5.991465</td>\n",
       "      <td>dependent</td>\n",
       "    </tr>\n",
       "    <tr>\n",
       "      <th>50</th>\n",
       "      <td>138.019151</td>\n",
       "      <td>1.236318e-11</td>\n",
       "      <td>44</td>\n",
       "      <td>[[3341.0990475110557, 1143.2764485769362, 803....</td>\n",
       "      <td>(DONOR_GENDER, recency_freq_status)</td>\n",
       "      <td>60.480887</td>\n",
       "      <td>dependent</td>\n",
       "    </tr>\n",
       "    <tr>\n",
       "      <th>51</th>\n",
       "      <td>544.064949</td>\n",
       "      <td>2.686592e-114</td>\n",
       "      <td>6</td>\n",
       "      <td>[[848.0803379067921, 858.9196620932079], [1278...</td>\n",
       "      <td>(INCOME_GROUP, PUBLISHED_PHONE)</td>\n",
       "      <td>12.591587</td>\n",
       "      <td>dependent</td>\n",
       "    </tr>\n",
       "    <tr>\n",
       "      <th>52</th>\n",
       "      <td>2895.784694</td>\n",
       "      <td>0.000000e+00</td>\n",
       "      <td>54</td>\n",
       "      <td>[[65.51984351967343, 90.58578070075973, 153.97...</td>\n",
       "      <td>(INCOME_GROUP, WEALTH_RATING)</td>\n",
       "      <td>72.153216</td>\n",
       "      <td>dependent</td>\n",
       "    </tr>\n",
       "    <tr>\n",
       "      <th>53</th>\n",
       "      <td>91.572139</td>\n",
       "      <td>1.428118e-17</td>\n",
       "      <td>6</td>\n",
       "      <td>[[830.2728767433949, 876.7271232566051], [1251...</td>\n",
       "      <td>(INCOME_GROUP, PEP_STAR)</td>\n",
       "      <td>12.591587</td>\n",
       "      <td>dependent</td>\n",
       "    </tr>\n",
       "    <tr>\n",
       "      <th>54</th>\n",
       "      <td>92.349061</td>\n",
       "      <td>9.845472e-18</td>\n",
       "      <td>6</td>\n",
       "      <td>[[1316.6875496087991, 390.3124503912008], [198...</td>\n",
       "      <td>(INCOME_GROUP, RECENT_STAR_STATUS)</td>\n",
       "      <td>12.591587</td>\n",
       "      <td>dependent</td>\n",
       "    </tr>\n",
       "    <tr>\n",
       "      <th>55</th>\n",
       "      <td>384.413564</td>\n",
       "      <td>1.705485e-26</td>\n",
       "      <td>132</td>\n",
       "      <td>[[601.2921533053634, 205.75360018142646, 144.6...</td>\n",
       "      <td>(INCOME_GROUP, recency_freq_status)</td>\n",
       "      <td>159.813547</td>\n",
       "      <td>dependent</td>\n",
       "    </tr>\n",
       "    <tr>\n",
       "      <th>56</th>\n",
       "      <td>31.965330</td>\n",
       "      <td>2.018951e-04</td>\n",
       "      <td>9</td>\n",
       "      <td>[[336.3505499489738, 465.02823449370675, 790.4...</td>\n",
       "      <td>(PUBLISHED_PHONE, WEALTH_RATING)</td>\n",
       "      <td>16.918978</td>\n",
       "      <td>dependent</td>\n",
       "    </tr>\n",
       "    <tr>\n",
       "      <th>57</th>\n",
       "      <td>14.697506</td>\n",
       "      <td>1.262133e-04</td>\n",
       "      <td>1</td>\n",
       "      <td>[[4262.26199115546, 4500.73800884454], [4316.7...</td>\n",
       "      <td>(PUBLISHED_PHONE, PEP_STAR)</td>\n",
       "      <td>3.841459</td>\n",
       "      <td>dependent</td>\n",
       "    </tr>\n",
       "    <tr>\n",
       "      <th>58</th>\n",
       "      <td>0.337273</td>\n",
       "      <td>5.614073e-01</td>\n",
       "      <td>1</td>\n",
       "      <td>[[6759.304626374872, 2003.6953736251276], [684...</td>\n",
       "      <td>(PUBLISHED_PHONE, RECENT_STAR_STATUS)</td>\n",
       "      <td>3.841459</td>\n",
       "      <td>independent</td>\n",
       "    </tr>\n",
       "    <tr>\n",
       "      <th>59</th>\n",
       "      <td>36.927722</td>\n",
       "      <td>2.409145e-02</td>\n",
       "      <td>22</td>\n",
       "      <td>[[3086.7739539630343, 1056.2500283478853, 742....</td>\n",
       "      <td>(PUBLISHED_PHONE, recency_freq_status)</td>\n",
       "      <td>33.924438</td>\n",
       "      <td>dependent</td>\n",
       "    </tr>\n",
       "    <tr>\n",
       "      <th>60</th>\n",
       "      <td>251.956592</td>\n",
       "      <td>3.853443e-49</td>\n",
       "      <td>9</td>\n",
       "      <td>[[329.28807120988773, 347.71192879011227], [45...</td>\n",
       "      <td>(WEALTH_RATING, PEP_STAR)</td>\n",
       "      <td>16.918978</td>\n",
       "      <td>dependent</td>\n",
       "    </tr>\n",
       "    <tr>\n",
       "      <th>61</th>\n",
       "      <td>152.722121</td>\n",
       "      <td>2.406127e-28</td>\n",
       "      <td>9</td>\n",
       "      <td>[[522.2012132894886, 154.7987867105114], [721....</td>\n",
       "      <td>(WEALTH_RATING, RECENT_STAR_STATUS)</td>\n",
       "      <td>16.918978</td>\n",
       "      <td>dependent</td>\n",
       "    </tr>\n",
       "    <tr>\n",
       "      <th>62</th>\n",
       "      <td>799.752193</td>\n",
       "      <td>2.964673e-73</td>\n",
       "      <td>198</td>\n",
       "      <td>[[238.47380655403106, 81.60233586574442, 57.38...</td>\n",
       "      <td>(WEALTH_RATING, recency_freq_status)</td>\n",
       "      <td>231.829167</td>\n",
       "      <td>dependent</td>\n",
       "    </tr>\n",
       "    <tr>\n",
       "      <th>63</th>\n",
       "      <td>4948.960627</td>\n",
       "      <td>0.000000e+00</td>\n",
       "      <td>1</td>\n",
       "      <td>[[6617.376970178025, 1961.6230298219753], [698...</td>\n",
       "      <td>(PEP_STAR, RECENT_STAR_STATUS)</td>\n",
       "      <td>3.841459</td>\n",
       "      <td>dependent</td>\n",
       "    </tr>\n",
       "    <tr>\n",
       "      <th>64</th>\n",
       "      <td>6354.743778</td>\n",
       "      <td>0.000000e+00</td>\n",
       "      <td>22</td>\n",
       "      <td>[[3021.9598026987187, 1034.0715500623653, 727....</td>\n",
       "      <td>(PEP_STAR, recency_freq_status)</td>\n",
       "      <td>33.924438</td>\n",
       "      <td>dependent</td>\n",
       "    </tr>\n",
       "    <tr>\n",
       "      <th>65</th>\n",
       "      <td>17419.373956</td>\n",
       "      <td>0.000000e+00</td>\n",
       "      <td>22</td>\n",
       "      <td>[[4792.3724345163855, 1639.8815058396644, 1153...</td>\n",
       "      <td>(RECENT_STAR_STATUS, recency_freq_status)</td>\n",
       "      <td>33.924438</td>\n",
       "      <td>dependent</td>\n",
       "    </tr>\n",
       "  </tbody>\n",
       "</table>\n",
       "</div>"
      ],
      "text/plain": [
       "               c              p   dof  \\\n",
       "0      31.509157   1.985020e-08     1   \n",
       "1      12.798802   1.230190e-02     4   \n",
       "2     101.225580   5.205896e-05    52   \n",
       "3       2.273499   1.316025e-01     1   \n",
       "4       0.883598   6.428788e-01     2   \n",
       "5      25.853658   2.370595e-04     6   \n",
       "6       0.007353   9.316639e-01     1   \n",
       "7      44.757834   1.022856e-06     9   \n",
       "8     206.473926   8.075799e-47     1   \n",
       "9     181.268654   2.561102e-41     1   \n",
       "10    410.613666   2.643745e-73    22   \n",
       "11     23.846691   8.572978e-05     4   \n",
       "12    108.995420   6.401553e-06    52   \n",
       "13      6.534122   1.058244e-02     1   \n",
       "14     27.719168   9.568839e-07     2   \n",
       "15     22.270365   1.081567e-03     6   \n",
       "16      4.617413   3.164894e-02     1   \n",
       "17     57.117988   4.797332e-09     9   \n",
       "18    172.537017   2.065761e-39     1   \n",
       "19     68.155247   1.511168e-16     1   \n",
       "20    148.690042   8.449837e-21    22   \n",
       "21  70552.000000   0.000000e+00   208   \n",
       "22    391.909818   1.556794e-83     4   \n",
       "23     34.221041   3.704555e-05     8   \n",
       "24   1082.172025  3.040936e-213    24   \n",
       "25    255.612797   4.020905e-54     4   \n",
       "26   2666.853941   0.000000e+00    36   \n",
       "27     52.532286   1.067536e-10     4   \n",
       "28     23.672716   9.289168e-05     4   \n",
       "29    144.965321   1.265929e-04    88   \n",
       "30    960.412469  2.076341e-167    52   \n",
       "31    174.522134   1.822964e-05   104   \n",
       "32   5013.252121   0.000000e+00   312   \n",
       "33    364.329814   1.868248e-48    52   \n",
       "34  11712.338519   0.000000e+00   468   \n",
       "35    156.032802   2.489049e-12    52   \n",
       "36    107.140982   1.067591e-05    52   \n",
       "37   1350.036470   2.187475e-05  1144   \n",
       "38    374.671793   4.375765e-82     2   \n",
       "39   1885.133711   0.000000e+00     6   \n",
       "40    900.609936  7.231495e-198     1   \n",
       "41    241.725801   5.558330e-47     9   \n",
       "42      0.957203   3.278925e-01     1   \n",
       "43      7.846003   5.093320e-03     1   \n",
       "44    212.257619   4.466158e-33    22   \n",
       "45    189.878588   3.978061e-34    12   \n",
       "46    169.830126   1.323905e-37     2   \n",
       "47     23.904006   1.581979e-01    18   \n",
       "48     32.143291   1.047546e-07     2   \n",
       "49     10.353530   5.646244e-03     2   \n",
       "50    138.019151   1.236318e-11    44   \n",
       "51    544.064949  2.686592e-114     6   \n",
       "52   2895.784694   0.000000e+00    54   \n",
       "53     91.572139   1.428118e-17     6   \n",
       "54     92.349061   9.845472e-18     6   \n",
       "55    384.413564   1.705485e-26   132   \n",
       "56     31.965330   2.018951e-04     9   \n",
       "57     14.697506   1.262133e-04     1   \n",
       "58      0.337273   5.614073e-01     1   \n",
       "59     36.927722   2.409145e-02    22   \n",
       "60    251.956592   3.853443e-49     9   \n",
       "61    152.722121   2.406127e-28     9   \n",
       "62    799.752193   2.964673e-73   198   \n",
       "63   4948.960627   0.000000e+00     1   \n",
       "64   6354.743778   0.000000e+00    22   \n",
       "65  17419.373956   0.000000e+00    22   \n",
       "\n",
       "                                             expected  \\\n",
       "0   [[12349.726726386212, 890.2732736137884], [410...   \n",
       "1   [[2852.4776051706544, 2923.7895452999205, 3035...   \n",
       "2   [[153.1330082775825, 225.94625240957023, 175.6...   \n",
       "3   [[7298.589409230071, 5941.410590769929], [2424...   \n",
       "4   [[7119.934232906226, 5437.7230978569, 682.3426...   \n",
       "5   [[1281.3629663227123, 1932.178251502438, 2345....   \n",
       "6   [[6577.963487923801, 6662.036512076199], [2185...   \n",
       "7   [[508.1914049211929, 702.6102732736138, 1194.2...   \n",
       "8   [[6439.843519673433, 6800.156480326567], [2139...   \n",
       "9   [[10212.620478512303, 3027.379521487697], [339...   \n",
       "10  [[4663.80088445402, 1595.886154892845, 1122.22...   \n",
       "11  [[3544.483501530786, 3633.095589069055, 3772.0...   \n",
       "12  [[190.28279850323165, 280.76040367388595, 218....   \n",
       "13  [[9069.21396983785, 7382.7860301621495], [653....   \n",
       "14  [[8847.21737158408, 6756.904864497108, 847.877...   \n",
       "15  [[1592.2192992402768, 2400.9211928790114, 2913...   \n",
       "16  [[8173.765506293231, 8278.23449370677], [589.2...   \n",
       "17  [[631.4777185621953, 873.062251956004, 1484.01...   \n",
       "18  [[8002.137884113845, 8449.862115886155], [576....   \n",
       "19  [[12690.183694296406, 3761.8163057035945], [91...   \n",
       "20  [[5795.230525002835, 1983.0452432248553, 1394....   \n",
       "21  [[43.95056128812791, 64.84862229277695, 50.413...   \n",
       "22  [[2094.7613108062137, 1705.238689193786], [214...   \n",
       "23  [[2043.4856559700647, 1560.6758135843065, 195....   \n",
       "24  [[367.7627848962467, 554.5526703707903, 673.04...   \n",
       "25  [[1887.935140038553, 1912.064859961447], [1935...   \n",
       "26  [[145.8555391767774, 201.6555164984692, 342.77...   \n",
       "27  [[1848.2934573080847, 1951.7065426919153], [18...   \n",
       "28  [[2931.114638847942, 868.8853611520581], [3004...   \n",
       "29  [[1338.5531239369543, 458.0337906792153, 322.0...   \n",
       "30  [[112.455607211702, 91.544392788298], [165.927...   \n",
       "31  [[109.70291416260346, 83.78364893978909, 10.51...   \n",
       "32  [[19.7430547681143, 29.770722304116113, 36.131...   \n",
       "33  [[101.35230751785917, 102.64769248214083], [14...   \n",
       "34  [[7.830139471595419, 10.825717201496769, 18.40...   \n",
       "35  [[99.2241750765393, 104.7758249234607], [146.4...   \n",
       "36  [[157.354575348679, 46.64542465132101], [232.1...   \n",
       "37  [[71.85916770608912, 24.589182446989454, 17.29...   \n",
       "38  [[5228.634482367615, 3993.276561968477, 501.08...   \n",
       "39  [[940.9888309332124, 1418.925161582946, 1722.1...   \n",
       "40  [[4830.629833314435, 4892.370166685565], [3932...   \n",
       "41  [[373.19826510942283, 515.9727860301622, 877.0...   \n",
       "42  [[4729.199285633292, 4993.800714366708], [3849...   \n",
       "43  [[7499.796745662774, 2223.2032543372266], [610...   \n",
       "44  [[3424.9347431681595, 1171.9638280984238, 824....   \n",
       "45  [[917.955267037079, 1384.1926522281437, 1679.9...   \n",
       "46  [[4712.385474543599, 4772.614525456401], [3599...   \n",
       "47  [[364.0631023925615, 503.34278262841593, 855.5...   \n",
       "48  [[4613.437748043996, 4871.562251956004], [3523...   \n",
       "49  [[7316.216407755981, 2168.7835922440186], [558...   \n",
       "50  [[3341.0990475110557, 1143.2764485769362, 803....   \n",
       "51  [[848.0803379067921, 858.9196620932079], [1278...   \n",
       "52  [[65.51984351967343, 90.58578070075973, 153.97...   \n",
       "53  [[830.2728767433949, 876.7271232566051], [1251...   \n",
       "54  [[1316.6875496087991, 390.3124503912008], [198...   \n",
       "55  [[601.2921533053634, 205.75360018142646, 144.6...   \n",
       "56  [[336.3505499489738, 465.02823449370675, 790.4...   \n",
       "57  [[4262.26199115546, 4500.73800884454], [4316.7...   \n",
       "58  [[6759.304626374872, 2003.6953736251276], [684...   \n",
       "59  [[3086.7739539630343, 1056.2500283478853, 742....   \n",
       "60  [[329.28807120988773, 347.71192879011227], [45...   \n",
       "61  [[522.2012132894886, 154.7987867105114], [721....   \n",
       "62  [[238.47380655403106, 81.60233586574442, 57.38...   \n",
       "63  [[6617.376970178025, 1961.6230298219753], [698...   \n",
       "64  [[3021.9598026987187, 1034.0715500623653, 727....   \n",
       "65  [[4792.3724345163855, 1639.8815058396644, 1153...   \n",
       "\n",
       "                                       labels     critical   dependence  \n",
       "0                        (TARGET_B, IN_HOUSE)     3.841459    dependent  \n",
       "1                      (TARGET_B, URBANICITY)     9.487729    dependent  \n",
       "2                    (TARGET_B, CLUSTER_CODE)    69.832160    dependent  \n",
       "3                      (TARGET_B, HOME_OWNER)     3.841459  independent  \n",
       "4                    (TARGET_B, DONOR_GENDER)     5.991465  independent  \n",
       "5                    (TARGET_B, INCOME_GROUP)    12.591587    dependent  \n",
       "6                 (TARGET_B, PUBLISHED_PHONE)     3.841459  independent  \n",
       "7                   (TARGET_B, WEALTH_RATING)    16.918978    dependent  \n",
       "8                        (TARGET_B, PEP_STAR)     3.841459    dependent  \n",
       "9              (TARGET_B, RECENT_STAR_STATUS)     3.841459    dependent  \n",
       "10            (TARGET_B, recency_freq_status)    33.924438    dependent  \n",
       "11                     (IN_HOUSE, URBANICITY)     9.487729    dependent  \n",
       "12                   (IN_HOUSE, CLUSTER_CODE)    69.832160    dependent  \n",
       "13                     (IN_HOUSE, HOME_OWNER)     3.841459    dependent  \n",
       "14                   (IN_HOUSE, DONOR_GENDER)     5.991465    dependent  \n",
       "15                   (IN_HOUSE, INCOME_GROUP)    12.591587    dependent  \n",
       "16                (IN_HOUSE, PUBLISHED_PHONE)     3.841459    dependent  \n",
       "17                  (IN_HOUSE, WEALTH_RATING)    16.918978    dependent  \n",
       "18                       (IN_HOUSE, PEP_STAR)     3.841459    dependent  \n",
       "19             (IN_HOUSE, RECENT_STAR_STATUS)     3.841459    dependent  \n",
       "20            (IN_HOUSE, recency_freq_status)    33.924438    dependent  \n",
       "21                 (URBANICITY, CLUSTER_CODE)   242.646544    dependent  \n",
       "22                   (URBANICITY, HOME_OWNER)     9.487729    dependent  \n",
       "23                 (URBANICITY, DONOR_GENDER)    15.507313    dependent  \n",
       "24                 (URBANICITY, INCOME_GROUP)    36.415029    dependent  \n",
       "25              (URBANICITY, PUBLISHED_PHONE)     9.487729    dependent  \n",
       "26                (URBANICITY, WEALTH_RATING)    50.998460    dependent  \n",
       "27                     (URBANICITY, PEP_STAR)     9.487729    dependent  \n",
       "28           (URBANICITY, RECENT_STAR_STATUS)     9.487729    dependent  \n",
       "29          (URBANICITY, recency_freq_status)   110.898003    dependent  \n",
       "30                 (CLUSTER_CODE, HOME_OWNER)    69.832160    dependent  \n",
       "31               (CLUSTER_CODE, DONOR_GENDER)   128.803908    dependent  \n",
       "32               (CLUSTER_CODE, INCOME_GROUP)   354.193659    dependent  \n",
       "33            (CLUSTER_CODE, PUBLISHED_PHONE)    69.832160    dependent  \n",
       "34              (CLUSTER_CODE, WEALTH_RATING)   519.433964    dependent  \n",
       "35                   (CLUSTER_CODE, PEP_STAR)    69.832160    dependent  \n",
       "36         (CLUSTER_CODE, RECENT_STAR_STATUS)    69.832160    dependent  \n",
       "37        (CLUSTER_CODE, recency_freq_status)  1223.798869    dependent  \n",
       "38                 (HOME_OWNER, DONOR_GENDER)     5.991465    dependent  \n",
       "39                 (HOME_OWNER, INCOME_GROUP)    12.591587    dependent  \n",
       "40              (HOME_OWNER, PUBLISHED_PHONE)     3.841459    dependent  \n",
       "41                (HOME_OWNER, WEALTH_RATING)    16.918978    dependent  \n",
       "42                     (HOME_OWNER, PEP_STAR)     3.841459  independent  \n",
       "43           (HOME_OWNER, RECENT_STAR_STATUS)     3.841459    dependent  \n",
       "44          (HOME_OWNER, recency_freq_status)    33.924438    dependent  \n",
       "45               (DONOR_GENDER, INCOME_GROUP)    21.026070    dependent  \n",
       "46            (DONOR_GENDER, PUBLISHED_PHONE)     5.991465    dependent  \n",
       "47              (DONOR_GENDER, WEALTH_RATING)    28.869299  independent  \n",
       "48                   (DONOR_GENDER, PEP_STAR)     5.991465    dependent  \n",
       "49         (DONOR_GENDER, RECENT_STAR_STATUS)     5.991465    dependent  \n",
       "50        (DONOR_GENDER, recency_freq_status)    60.480887    dependent  \n",
       "51            (INCOME_GROUP, PUBLISHED_PHONE)    12.591587    dependent  \n",
       "52              (INCOME_GROUP, WEALTH_RATING)    72.153216    dependent  \n",
       "53                   (INCOME_GROUP, PEP_STAR)    12.591587    dependent  \n",
       "54         (INCOME_GROUP, RECENT_STAR_STATUS)    12.591587    dependent  \n",
       "55        (INCOME_GROUP, recency_freq_status)   159.813547    dependent  \n",
       "56           (PUBLISHED_PHONE, WEALTH_RATING)    16.918978    dependent  \n",
       "57                (PUBLISHED_PHONE, PEP_STAR)     3.841459    dependent  \n",
       "58      (PUBLISHED_PHONE, RECENT_STAR_STATUS)     3.841459  independent  \n",
       "59     (PUBLISHED_PHONE, recency_freq_status)    33.924438    dependent  \n",
       "60                  (WEALTH_RATING, PEP_STAR)    16.918978    dependent  \n",
       "61        (WEALTH_RATING, RECENT_STAR_STATUS)    16.918978    dependent  \n",
       "62       (WEALTH_RATING, recency_freq_status)   231.829167    dependent  \n",
       "63             (PEP_STAR, RECENT_STAR_STATUS)     3.841459    dependent  \n",
       "64            (PEP_STAR, recency_freq_status)    33.924438    dependent  \n",
       "65  (RECENT_STAR_STATUS, recency_freq_status)    33.924438    dependent  "
      ]
     },
     "execution_count": 219,
     "metadata": {},
     "output_type": "execute_result"
    }
   ],
   "source": [
    "pd.set_option('display.max_rows', 75)\n",
    " ## TARGET_B and IN_HOUSE are associated, which makes sense\n",
    "\n",
    "'''DONOR_GENDER and WEALTH_RATING appear independent, given test statistic and dof'''\n",
    "\n",
    "'''HOME_OWNER and WEALTH RATING appear to be dependent, which intuitively makes sense, and according to test and dof'''\n",
    "df4\n"
   ]
  },
  {
   "cell_type": "markdown",
   "metadata": {},
   "source": [
    "## 3) Linear Regression"
   ]
  },
  {
   "cell_type": "code",
   "execution_count": 212,
   "metadata": {},
   "outputs": [],
   "source": [
    "### Many dependent categorical variables, should exclude from model."
   ]
  },
  {
   "cell_type": "code",
   "execution_count": 817,
   "metadata": {},
   "outputs": [],
   "source": [
    "model_df = df[['LAST_GIFT_AMT',\\\n",
    "               'MEDIAN_HOUSEHOLD_INCOME',\\\n",
    "              'MONTHS_SINCE_LAST_GIFT','MEDIAN_HOME_VALUE','TARGET_D','PEP_STAR','URBANICITY',]]\n",
    "\n",
    "\n"
   ]
  },
  {
   "cell_type": "code",
   "execution_count": 818,
   "metadata": {},
   "outputs": [
    {
     "name": "stdout",
     "output_type": "stream",
     "text": [
      "<class 'pandas.core.frame.DataFrame'>\n",
      "RangeIndex: 17638 entries, 0 to 17637\n",
      "Data columns (total 7 columns):\n",
      "LAST_GIFT_AMT              17638 non-null int64\n",
      "MEDIAN_HOUSEHOLD_INCOME    17638 non-null int64\n",
      "MONTHS_SINCE_LAST_GIFT     17638 non-null int64\n",
      "MEDIAN_HOME_VALUE          17638 non-null int64\n",
      "TARGET_D                   17638 non-null int64\n",
      "PEP_STAR                   17638 non-null int64\n",
      "URBANICITY                 17638 non-null object\n",
      "dtypes: int64(6), object(1)\n",
      "memory usage: 964.7+ KB\n"
     ]
    }
   ],
   "source": [
    "model_df.info()\n",
    "##binarize gender, coerce floats to ints, then standardize/normalize"
   ]
  },
  {
   "cell_type": "code",
   "execution_count": 789,
   "metadata": {},
   "outputs": [],
   "source": [
    "#model_df['HOME_OWNER'] = model_df['HOME_OWNER'].apply({'H':1, 'U':0}.get)"
   ]
  },
  {
   "cell_type": "code",
   "execution_count": 790,
   "metadata": {},
   "outputs": [],
   "source": [
    "##model_df.dropna(subset=['DONOR_GENDER'], inplace=True) ##dropped ~900 rows where gender unknown"
   ]
  },
  {
   "cell_type": "code",
   "execution_count": 819,
   "metadata": {},
   "outputs": [
    {
     "data": {
      "text/plain": [
       "S    4044\n",
       "R    3895\n",
       "C    3800\n",
       "T    3773\n",
       "U    2126\n",
       "Name: URBANICITY, dtype: int64"
      ]
     },
     "execution_count": 819,
     "metadata": {},
     "output_type": "execute_result"
    }
   ],
   "source": [
    "model_df.URBANICITY.value_counts()"
   ]
  },
  {
   "cell_type": "code",
   "execution_count": 688,
   "metadata": {},
   "outputs": [],
   "source": [
    "##model_df.WEALTH_RATING = model_df.WEALTH_RATING.astype(int)"
   ]
  },
  {
   "cell_type": "code",
   "execution_count": 689,
   "metadata": {},
   "outputs": [],
   "source": [
    "##model_df.reset_index(drop=True, inplace=True)"
   ]
  },
  {
   "cell_type": "code",
   "execution_count": 820,
   "metadata": {},
   "outputs": [],
   "source": [
    "model_df = pd.get_dummies(model_df, columns=['URBANICITY'], drop_first=True)"
   ]
  },
  {
   "cell_type": "code",
   "execution_count": 821,
   "metadata": {},
   "outputs": [],
   "source": [
    "labels = model_df['TARGET_D']\n",
    "model_df = model_df.drop('TARGET_D', 1)"
   ]
  },
  {
   "cell_type": "code",
   "execution_count": 822,
   "metadata": {},
   "outputs": [],
   "source": [
    "from sklearn.model_selection import train_test_split\n",
    "X_train, X_test, y_train, y_test = train_test_split(model_df, labels, test_size=0.2, random_state=23)"
   ]
  },
  {
   "cell_type": "code",
   "execution_count": 823,
   "metadata": {},
   "outputs": [],
   "source": [
    "from sklearn import preprocessing\n",
    "names = X_train.columns\n",
    "scaler = preprocessing.StandardScaler()\n",
    "scaled_df = scaler.fit_transform(X_train)\n",
    "X_train = pd.DataFrame(scaled_df, columns=names)"
   ]
  },
  {
   "cell_type": "code",
   "execution_count": 824,
   "metadata": {},
   "outputs": [],
   "source": [
    "names = X_test.columns\n",
    "scaler = preprocessing.StandardScaler()\n",
    "scaled_df = scaler.fit_transform(X_test)\n",
    "X_test = pd.DataFrame(scaled_df, columns=names)"
   ]
  },
  {
   "cell_type": "code",
   "execution_count": 825,
   "metadata": {},
   "outputs": [],
   "source": [
    "from sklearn.linear_model import LinearRegression"
   ]
  },
  {
   "cell_type": "code",
   "execution_count": 826,
   "metadata": {},
   "outputs": [
    {
     "data": {
      "text/plain": [
       "LinearRegression(copy_X=True, fit_intercept=True, n_jobs=None, normalize=False)"
      ]
     },
     "execution_count": 826,
     "metadata": {},
     "output_type": "execute_result"
    }
   ],
   "source": [
    "regress = LinearRegression()  \n",
    "regress.fit(X_train, y_train)"
   ]
  },
  {
   "cell_type": "code",
   "execution_count": 827,
   "metadata": {},
   "outputs": [],
   "source": [
    "y_pred = regress.predict(X_test)"
   ]
  },
  {
   "cell_type": "code",
   "execution_count": 828,
   "metadata": {},
   "outputs": [
    {
     "data": {
      "text/plain": [
       "(3528, 3528, 14110, 14110, 3528)"
      ]
     },
     "execution_count": 828,
     "metadata": {},
     "output_type": "execute_result"
    }
   ],
   "source": [
    "len(X_test), len(y_test), len(X_train), len(y_train), len(y_pred)"
   ]
  },
  {
   "cell_type": "code",
   "execution_count": 829,
   "metadata": {},
   "outputs": [
    {
     "name": "stdout",
     "output_type": "stream",
     "text": [
      "Mean Absolute Error: 5.651818582171258\n",
      "Mean Squared Error: 62.69302381140112\n",
      "Root Mean Squared Error: 7.917892637021616\n"
     ]
    }
   ],
   "source": [
    "from sklearn import metrics\n",
    "print('Mean Absolute Error:', metrics.mean_absolute_error(y_test, y_pred))  \n",
    "print('Mean Squared Error:', metrics.mean_squared_error(y_test, y_pred))  \n",
    "print('Root Mean Squared Error:', np.sqrt(metrics.mean_squared_error(y_test, y_pred)))"
   ]
  },
  {
   "cell_type": "markdown",
   "metadata": {},
   "source": [
    "## 4) Other regressors"
   ]
  },
  {
   "cell_type": "code",
   "execution_count": 830,
   "metadata": {},
   "outputs": [],
   "source": [
    "model_df = df[['LAST_GIFT_AMT',\\\n",
    "               'MEDIAN_HOUSEHOLD_INCOME',\\\n",
    "              'MONTHS_SINCE_LAST_GIFT','MEDIAN_HOME_VALUE','TARGET_D','PEP_STAR','URBANICITY']]"
   ]
  },
  {
   "cell_type": "code",
   "execution_count": 831,
   "metadata": {},
   "outputs": [],
   "source": [
    "model_df = pd.get_dummies(model_df, columns=['URBANICITY'], drop_first=True)"
   ]
  },
  {
   "cell_type": "code",
   "execution_count": 832,
   "metadata": {},
   "outputs": [],
   "source": [
    "y = model_df['TARGET_D']\n",
    "X = model_df.drop('TARGET_D', 1)\n",
    "names = X.columns\n",
    "scaler = preprocessing.StandardScaler()\n",
    "scaled_df = scaler.fit_transform(X)\n",
    "X = pd.DataFrame(scaled_df, columns=names)"
   ]
  },
  {
   "cell_type": "code",
   "execution_count": 833,
   "metadata": {},
   "outputs": [],
   "source": [
    "from sklearn.model_selection import cross_val_score, GridSearchCV\n",
    "from sklearn.ensemble import RandomForestRegressor"
   ]
  },
  {
   "cell_type": "markdown",
   "metadata": {},
   "source": [
    "### Random forest regressor"
   ]
  },
  {
   "cell_type": "code",
   "execution_count": 840,
   "metadata": {},
   "outputs": [],
   "source": [
    "def rfr_model(X, y):\n",
    "    gsc = GridSearchCV(\n",
    "        estimator=RandomForestRegressor(),\n",
    "        param_grid={\n",
    "            'max_depth': range(5,9),\n",
    "            'n_estimators': (10, 50, 100, 1000),\n",
    "        },\n",
    "        cv=5, scoring='neg_mean_squared_error', verbose=0,n_jobs=-1)\n",
    "    \n",
    "    grid_result = gsc.fit(X, y)\n",
    "    best_params = grid_result.best_params_\n",
    "    \n",
    "    rfr = RandomForestRegressor(max_depth=best_params[\"max_depth\"], n_estimators=best_params[\"n_estimators\"],random_state=False, verbose=False)\n",
    "    scores = cross_val_score(rfr, X, y, cv=10, scoring='neg_mean_squared_error')\n",
    "    return scores"
   ]
  },
  {
   "cell_type": "code",
   "execution_count": 839,
   "metadata": {},
   "outputs": [
    {
     "data": {
      "text/plain": [
       "array([-76.71439235, -86.77058585, -84.21707368, -73.41114662,\n",
       "       -68.1697427 , -72.99436522, -76.85858432, -88.51412925,\n",
       "       -44.38863481, -93.42976927])"
      ]
     },
     "execution_count": 839,
     "metadata": {},
     "output_type": "execute_result"
    }
   ],
   "source": [
    "rfr_model(X,y) ##worse average than MSE in linear"
   ]
  },
  {
   "cell_type": "code",
   "execution_count": 841,
   "metadata": {},
   "outputs": [
    {
     "data": {
      "text/plain": [
       "-76.54684240699999"
      ]
     },
     "execution_count": 841,
     "metadata": {},
     "output_type": "execute_result"
    }
   ],
   "source": [
    "np.mean([-76.71439235, -86.77058585, -84.21707368, -73.41114662,\n",
    "       -68.1697427 , -72.99436522, -76.85858432, -88.51412925,\n",
    "       -44.38863481, -93.42976927])"
   ]
  },
  {
   "cell_type": "markdown",
   "metadata": {},
   "source": [
    "### Decision Tree regressor"
   ]
  },
  {
   "cell_type": "code",
   "execution_count": 842,
   "metadata": {},
   "outputs": [],
   "source": [
    "from sklearn.tree import DecisionTreeRegressor"
   ]
  },
  {
   "cell_type": "code",
   "execution_count": 843,
   "metadata": {},
   "outputs": [
    {
     "data": {
      "text/plain": [
       "array([-156.82312925, -205.57993197, -164.9914966 , -152.51303855,\n",
       "       -131.3792517 , -174.7154195 , -209.93282313, -170.05725624,\n",
       "       -115.0948667 , -215.43803176])"
      ]
     },
     "execution_count": 843,
     "metadata": {},
     "output_type": "execute_result"
    }
   ],
   "source": [
    "regressor = DecisionTreeRegressor()\n",
    "cross_val_score(regressor, X, y, cv=10, scoring='neg_mean_squared_error')"
   ]
  },
  {
   "cell_type": "markdown",
   "metadata": {},
   "source": [
    "### Support Vector Regressor"
   ]
  },
  {
   "cell_type": "code",
   "execution_count": 811,
   "metadata": {},
   "outputs": [],
   "source": [
    "from sklearn.svm import SVR"
   ]
  },
  {
   "cell_type": "code",
   "execution_count": 844,
   "metadata": {},
   "outputs": [
    {
     "data": {
      "text/plain": [
       "SVR(C=1.0, cache_size=200, coef0=0.0, degree=3, epsilon=0.1,\n",
       "    gamma='auto_deprecated', kernel='rbf', max_iter=-1, shrinking=True,\n",
       "    tol=0.001, verbose=False)"
      ]
     },
     "execution_count": 844,
     "metadata": {},
     "output_type": "execute_result"
    }
   ],
   "source": [
    "model = SVR()\n",
    "model.fit(X_train,y_train)"
   ]
  },
  {
   "cell_type": "code",
   "execution_count": 845,
   "metadata": {},
   "outputs": [],
   "source": [
    "pred_svr = model.predict(X_test)"
   ]
  },
  {
   "cell_type": "code",
   "execution_count": 846,
   "metadata": {},
   "outputs": [
    {
     "name": "stdout",
     "output_type": "stream",
     "text": [
      "Mean Absolute Error: 3.6693302931691796\n",
      "Mean Squared Error: 75.46487856008828\n",
      "Root Mean Squared Error: 8.687052351637366\n"
     ]
    }
   ],
   "source": [
    "print('Mean Absolute Error:', metrics.mean_absolute_error(y_test, pred_svr))  \n",
    "print('Mean Squared Error:', metrics.mean_squared_error(y_test, pred_svr))  \n",
    "print('Root Mean Squared Error:', np.sqrt(metrics.mean_squared_error(y_test, pred_svr)))"
   ]
  },
  {
   "cell_type": "markdown",
   "metadata": {},
   "source": [
    "## 5) Classifiers"
   ]
  },
  {
   "cell_type": "code",
   "execution_count": 853,
   "metadata": {},
   "outputs": [],
   "source": [
    "model_df2 = df[['LAST_GIFT_AMT',\\\n",
    "               'MEDIAN_HOUSEHOLD_INCOME',\\\n",
    "              'MONTHS_SINCE_LAST_GIFT','MEDIAN_HOME_VALUE','TARGET_B','PEP_STAR','URBANICITY']]"
   ]
  },
  {
   "cell_type": "code",
   "execution_count": 854,
   "metadata": {},
   "outputs": [],
   "source": [
    "model_df2 = pd.get_dummies(model_df2, columns=['URBANICITY'], drop_first=True)"
   ]
  },
  {
   "cell_type": "code",
   "execution_count": 855,
   "metadata": {},
   "outputs": [],
   "source": [
    "labels2 = model_df2['TARGET_B']\n",
    "model_df2 = model_df2.drop('TARGET_B', 1)"
   ]
  },
  {
   "cell_type": "code",
   "execution_count": 856,
   "metadata": {},
   "outputs": [],
   "source": [
    "X_train2, X_test2, y_train2, y_test2 = train_test_split(model_df2, labels2, test_size=0.2, random_state=23)"
   ]
  },
  {
   "cell_type": "code",
   "execution_count": 857,
   "metadata": {},
   "outputs": [],
   "source": [
    "names2 = X_train2.columns\n",
    "scaler2 = preprocessing.StandardScaler()\n",
    "scaled_df2 = scaler2.fit_transform(X_train2)\n",
    "X_train2 = pd.DataFrame(scaled_df2, columns=names2)"
   ]
  },
  {
   "cell_type": "code",
   "execution_count": 858,
   "metadata": {},
   "outputs": [],
   "source": [
    "names2 = X_test2.columns\n",
    "scaler2 = preprocessing.StandardScaler()\n",
    "scaled_df2 = scaler2.fit_transform(X_test2)\n",
    "X_test2 = pd.DataFrame(scaled_df2, columns=names2)"
   ]
  },
  {
   "cell_type": "markdown",
   "metadata": {},
   "source": [
    "### KNN"
   ]
  },
  {
   "cell_type": "code",
   "execution_count": 862,
   "metadata": {},
   "outputs": [
    {
     "data": {
      "text/plain": [
       "KNeighborsClassifier(algorithm='auto', leaf_size=30, metric='minkowski',\n",
       "                     metric_params=None, n_jobs=None, n_neighbors=3, p=2,\n",
       "                     weights='uniform')"
      ]
     },
     "execution_count": 862,
     "metadata": {},
     "output_type": "execute_result"
    }
   ],
   "source": [
    "from sklearn.neighbors import KNeighborsClassifier\n",
    "neigh = KNeighborsClassifier(n_neighbors=3)\n",
    "neigh.fit(X_train2, y_train2)"
   ]
  },
  {
   "cell_type": "code",
   "execution_count": 863,
   "metadata": {},
   "outputs": [],
   "source": [
    "npreds = neigh.predict(X_test2)"
   ]
  },
  {
   "cell_type": "code",
   "execution_count": 866,
   "metadata": {},
   "outputs": [
    {
     "data": {
      "text/plain": [
       "0.6927437641723356"
      ]
     },
     "execution_count": 866,
     "metadata": {},
     "output_type": "execute_result"
    }
   ],
   "source": [
    "neigh.score(X_test2, y_test2)"
   ]
  },
  {
   "cell_type": "code",
   "execution_count": 867,
   "metadata": {},
   "outputs": [],
   "source": [
    "from sklearn.metrics import confusion_matrix"
   ]
  },
  {
   "cell_type": "code",
   "execution_count": 870,
   "metadata": {},
   "outputs": [
    {
     "data": {
      "text/plain": [
       "array([[2265,  395],\n",
       "       [ 689,  179]])"
      ]
     },
     "execution_count": 870,
     "metadata": {},
     "output_type": "execute_result"
    }
   ],
   "source": [
    "confusion_matrix(y_test2, npreds)"
   ]
  },
  {
   "cell_type": "code",
   "execution_count": 871,
   "metadata": {},
   "outputs": [],
   "source": [
    "from sklearn.metrics import f1_score"
   ]
  },
  {
   "cell_type": "code",
   "execution_count": 872,
   "metadata": {},
   "outputs": [
    {
     "data": {
      "text/plain": [
       "0.2482662968099861"
      ]
     },
     "execution_count": 872,
     "metadata": {},
     "output_type": "execute_result"
    }
   ],
   "source": [
    "f1_score(y_test2, npreds)"
   ]
  },
  {
   "cell_type": "code",
   "execution_count": 873,
   "metadata": {},
   "outputs": [],
   "source": [
    "tn, fp, fn, tp = confusion_matrix(y_test2, npreds).ravel()"
   ]
  },
  {
   "cell_type": "code",
   "execution_count": 874,
   "metadata": {},
   "outputs": [
    {
     "data": {
      "text/plain": [
       "(2265, 395, 689, 179)"
      ]
     },
     "execution_count": 874,
     "metadata": {},
     "output_type": "execute_result"
    }
   ],
   "source": [
    "tn, fp, fn, tp  #predicting lots of 0, given class imbalance."
   ]
  },
  {
   "cell_type": "markdown",
   "metadata": {},
   "source": [
    "### Decision Tree Classifier"
   ]
  },
  {
   "cell_type": "code",
   "execution_count": 875,
   "metadata": {},
   "outputs": [],
   "source": [
    "from sklearn.tree import DecisionTreeClassifier"
   ]
  },
  {
   "cell_type": "code",
   "execution_count": 876,
   "metadata": {},
   "outputs": [],
   "source": [
    "DTclf = DecisionTreeClassifier()"
   ]
  },
  {
   "cell_type": "code",
   "execution_count": 877,
   "metadata": {},
   "outputs": [
    {
     "data": {
      "text/plain": [
       "DecisionTreeClassifier(class_weight=None, criterion='gini', max_depth=None,\n",
       "                       max_features=None, max_leaf_nodes=None,\n",
       "                       min_impurity_decrease=0.0, min_impurity_split=None,\n",
       "                       min_samples_leaf=1, min_samples_split=2,\n",
       "                       min_weight_fraction_leaf=0.0, presort=False,\n",
       "                       random_state=None, splitter='best')"
      ]
     },
     "execution_count": 877,
     "metadata": {},
     "output_type": "execute_result"
    }
   ],
   "source": [
    "DTclf.fit(X_train2, y_train2)"
   ]
  },
  {
   "cell_type": "code",
   "execution_count": 878,
   "metadata": {},
   "outputs": [],
   "source": [
    "DTpreds = DTclf.predict(X_test2)"
   ]
  },
  {
   "cell_type": "code",
   "execution_count": 879,
   "metadata": {},
   "outputs": [
    {
     "data": {
      "text/plain": [
       "0.6139455782312925"
      ]
     },
     "execution_count": 879,
     "metadata": {},
     "output_type": "execute_result"
    }
   ],
   "source": [
    "DTclf.score(X_test2, y_test2)"
   ]
  },
  {
   "cell_type": "code",
   "execution_count": 880,
   "metadata": {},
   "outputs": [
    {
     "data": {
      "text/plain": [
       "0.28914405010438415"
      ]
     },
     "execution_count": 880,
     "metadata": {},
     "output_type": "execute_result"
    }
   ],
   "source": [
    "f1_score(y_test2, DTpreds)"
   ]
  },
  {
   "cell_type": "code",
   "execution_count": 881,
   "metadata": {},
   "outputs": [],
   "source": [
    "tn, fp, fn, tp = confusion_matrix(y_test2, DTpreds).ravel()"
   ]
  },
  {
   "cell_type": "code",
   "execution_count": 882,
   "metadata": {},
   "outputs": [
    {
     "data": {
      "text/plain": [
       "(1889, 771, 591, 277)"
      ]
     },
     "execution_count": 882,
     "metadata": {},
     "output_type": "execute_result"
    }
   ],
   "source": [
    "tn, fp, fn, tp"
   ]
  },
  {
   "cell_type": "markdown",
   "metadata": {},
   "source": [
    "### Random Forest"
   ]
  },
  {
   "cell_type": "code",
   "execution_count": 886,
   "metadata": {},
   "outputs": [],
   "source": [
    "from sklearn.ensemble import RandomForestClassifier"
   ]
  },
  {
   "cell_type": "code",
   "execution_count": 892,
   "metadata": {},
   "outputs": [],
   "source": [
    "RFclf = RandomForestClassifier(n_estimators =3)"
   ]
  },
  {
   "cell_type": "code",
   "execution_count": 893,
   "metadata": {},
   "outputs": [
    {
     "data": {
      "text/plain": [
       "RandomForestClassifier(bootstrap=True, class_weight=None, criterion='gini',\n",
       "                       max_depth=None, max_features='auto', max_leaf_nodes=None,\n",
       "                       min_impurity_decrease=0.0, min_impurity_split=None,\n",
       "                       min_samples_leaf=1, min_samples_split=2,\n",
       "                       min_weight_fraction_leaf=0.0, n_estimators=3,\n",
       "                       n_jobs=None, oob_score=False, random_state=None,\n",
       "                       verbose=0, warm_start=False)"
      ]
     },
     "execution_count": 893,
     "metadata": {},
     "output_type": "execute_result"
    }
   ],
   "source": [
    "RFclf.fit(X_train2, y_train2)"
   ]
  },
  {
   "cell_type": "code",
   "execution_count": 894,
   "metadata": {},
   "outputs": [],
   "source": [
    "RFpreds = RFclf.predict(X_test2)"
   ]
  },
  {
   "cell_type": "code",
   "execution_count": 895,
   "metadata": {},
   "outputs": [
    {
     "data": {
      "text/plain": [
       "0.2641025641025641"
      ]
     },
     "execution_count": 895,
     "metadata": {},
     "output_type": "execute_result"
    }
   ],
   "source": [
    "f1_score(y_test2, RFpreds)"
   ]
  },
  {
   "cell_type": "markdown",
   "metadata": {},
   "source": [
    "### SVM"
   ]
  },
  {
   "cell_type": "code",
   "execution_count": 896,
   "metadata": {},
   "outputs": [],
   "source": [
    "from sklearn.svm import SVC"
   ]
  },
  {
   "cell_type": "code",
   "execution_count": 905,
   "metadata": {},
   "outputs": [],
   "source": [
    "SCMclf = SVC(gamma='auto')"
   ]
  },
  {
   "cell_type": "code",
   "execution_count": 906,
   "metadata": {},
   "outputs": [
    {
     "data": {
      "text/plain": [
       "SVC(C=1.0, cache_size=200, class_weight=None, coef0=0.0,\n",
       "    decision_function_shape='ovr', degree=3, gamma='auto', kernel='rbf',\n",
       "    max_iter=-1, probability=False, random_state=None, shrinking=True,\n",
       "    tol=0.001, verbose=False)"
      ]
     },
     "execution_count": 906,
     "metadata": {},
     "output_type": "execute_result"
    }
   ],
   "source": [
    "SCMclf.fit(X_train2, y_train2)"
   ]
  },
  {
   "cell_type": "code",
   "execution_count": 907,
   "metadata": {},
   "outputs": [],
   "source": [
    "SVpreds = SCMclf.predict(X_test2)"
   ]
  },
  {
   "cell_type": "code",
   "execution_count": 908,
   "metadata": {},
   "outputs": [
    {
     "data": {
      "text/plain": [
       "0.0022988505747126436"
      ]
     },
     "execution_count": 908,
     "metadata": {},
     "output_type": "execute_result"
    }
   ],
   "source": [
    "f1_score(y_test2, SVpreds)"
   ]
  },
  {
   "cell_type": "markdown",
   "metadata": {},
   "source": [
    "### SGD"
   ]
  },
  {
   "cell_type": "code",
   "execution_count": 918,
   "metadata": {},
   "outputs": [],
   "source": [
    "from sklearn.naive_bayes import GaussianNB\n",
    "gnb = GaussianNB()"
   ]
  },
  {
   "cell_type": "code",
   "execution_count": 919,
   "metadata": {},
   "outputs": [],
   "source": [
    "gnbpreds= gnb.fit(X_train2, y_train2).predict(X_test2)"
   ]
  },
  {
   "cell_type": "code",
   "execution_count": 920,
   "metadata": {},
   "outputs": [
    {
     "data": {
      "text/plain": [
       "0.1480804387568556"
      ]
     },
     "execution_count": 920,
     "metadata": {},
     "output_type": "execute_result"
    }
   ],
   "source": [
    "f1_score(y_test2, gnbpreds)"
   ]
  },
  {
   "cell_type": "code",
   "execution_count": 913,
   "metadata": {},
   "outputs": [],
   "source": []
  },
  {
   "cell_type": "code",
   "execution_count": null,
   "metadata": {},
   "outputs": [],
   "source": []
  },
  {
   "cell_type": "code",
   "execution_count": null,
   "metadata": {},
   "outputs": [],
   "source": []
  },
  {
   "cell_type": "code",
   "execution_count": null,
   "metadata": {},
   "outputs": [],
   "source": []
  },
  {
   "cell_type": "code",
   "execution_count": null,
   "metadata": {},
   "outputs": [],
   "source": []
  },
  {
   "cell_type": "code",
   "execution_count": null,
   "metadata": {},
   "outputs": [],
   "source": []
  }
 ],
 "metadata": {
  "kernelspec": {
   "display_name": "Python 3",
   "language": "python",
   "name": "python3"
  },
  "language_info": {
   "codemirror_mode": {
    "name": "ipython",
    "version": 3
   },
   "file_extension": ".py",
   "mimetype": "text/x-python",
   "name": "python",
   "nbconvert_exporter": "python",
   "pygments_lexer": "ipython3",
   "version": "3.7.3"
  }
 },
 "nbformat": 4,
 "nbformat_minor": 2
}
